{
 "cells": [
  {
   "cell_type": "markdown",
   "id": "e48f613c",
   "metadata": {},
   "source": [
    "# Xray classification\n",
    "Jonathan Marks\n"
   ]
  },
  {
   "cell_type": "markdown",
   "id": "979ad769",
   "metadata": {},
   "source": [
    "# Business Problem"
   ]
  },
  {
   "cell_type": "markdown",
   "id": "c3fd3516",
   "metadata": {},
   "source": [
    "The business problem is a radiologist who wants to double-check their work with a model that classifies x-rays as Pneumonia or normal.  The practice has supplied us with their x-rays that they have classified and has asked us to build a model which they can refer to on difficult to classify images. "
   ]
  },
  {
   "cell_type": "markdown",
   "id": "d9aad44e",
   "metadata": {},
   "source": [
    "# Data Understanding"
   ]
  },
  {
   "cell_type": "markdown",
   "id": "c2a0b042",
   "metadata": {},
   "source": [
    "The data consists of 5,856 chest x-ray images. Each image is labelled as either normal or pneumonia.  25% of the images are labelled normal and 75% pneumonia.  The [data]('./data/archive/chest_xray/') comes from an x-ray imaging lab. "
   ]
  },
  {
   "cell_type": "code",
   "execution_count": 1,
   "id": "f47dd35e",
   "metadata": {},
   "outputs": [],
   "source": [
    "from pathlib import Path"
   ]
  },
  {
   "cell_type": "code",
   "execution_count": 2,
   "id": "b49c226a",
   "metadata": {},
   "outputs": [],
   "source": [
    "import numpy as np"
   ]
  },
  {
   "cell_type": "code",
   "execution_count": 3,
   "id": "945e9892",
   "metadata": {},
   "outputs": [],
   "source": [
    "#i=Path('./data/archive/chest_xray/train')"
   ]
  },
  {
   "cell_type": "code",
   "execution_count": 4,
   "id": "3c5ff077",
   "metadata": {},
   "outputs": [],
   "source": [
    "from keras.preprocessing.image import ImageDataGenerator\n",
    "from tensorflow.keras.utils import array_to_img, img_to_array, load_img\n"
   ]
  },
  {
   "cell_type": "code",
   "execution_count": 5,
   "id": "6b29a1f2",
   "metadata": {},
   "outputs": [],
   "source": [
    "import tensorflow as tf"
   ]
  },
  {
   "cell_type": "markdown",
   "id": "717d21cf",
   "metadata": {},
   "source": [
    "Loading and converting data to array format."
   ]
  },
  {
   "cell_type": "code",
   "execution_count": 6,
   "id": "bfa0708e",
   "metadata": {},
   "outputs": [],
   "source": [
    "#data uploading\n",
    "#train_data_dir = i\n",
    "\n",
    "#Get all the data in the directory data/train, and reshape them\n",
    "#train_generator = ImageDataGenerator().flow_from_directory(\n",
    " #train_data_dir, \n",
    "   #target_size=(64, 64), batch_size=5216, color_mode = \"grayscale\")\n",
    "\n",
    "#Create the datasets\n",
    "#train_images, train_labels = next(train_generator)"
   ]
  },
  {
   "cell_type": "code",
   "execution_count": 7,
   "id": "5b100187",
   "metadata": {},
   "outputs": [],
   "source": [
    "#data uploading\n",
    "\n",
    "\n",
    "#Directory path\n",
    "#val_data_dir = './data/archive/chest_xray/val'\n",
    "#test_data_dir = './data/archive/chest_xray/test'\n",
    "\n",
    "#Get all the data in the directory data/train (790 images), and reshape them\n",
    "#val_generator = ImageDataGenerator().flow_from_directory(\n",
    "        #val_data_dir, \n",
    "        #target_size=(64, 64), batch_size= 16, color_mode = \"grayscale\")\n",
    "\n",
    "#Get all the data in the directory data/validation (132 images), and reshape them\n",
    "#test_generator = ImageDataGenerator().flow_from_directory(\n",
    "        #test_data_dir, \n",
    "        #target_size=(64, 64), batch_size=234+390, color_mode = \"grayscale\")\n",
    "\n",
    "\n",
    "#Create the datasets\n",
    "#val_images, val_labels = next(val_generator)\n",
    "#test_images, test_labels = next(test_generator)"
   ]
  },
  {
   "cell_type": "markdown",
   "id": "7581df4a",
   "metadata": {},
   "source": [
    "Pickling data"
   ]
  },
  {
   "cell_type": "code",
   "execution_count": 8,
   "id": "94911bec",
   "metadata": {},
   "outputs": [],
   "source": [
    "import pickle"
   ]
  },
  {
   "cell_type": "code",
   "execution_count": null,
   "id": "0cc338a6",
   "metadata": {},
   "outputs": [],
   "source": []
  },
  {
   "cell_type": "code",
   "execution_count": 9,
   "id": "d892b800",
   "metadata": {},
   "outputs": [],
   "source": [
    "#with open('train_images.pickle', 'wb') as f:\n",
    "    #pickle.dump(train_images, f)"
   ]
  },
  {
   "cell_type": "code",
   "execution_count": 10,
   "id": "7f6a5720",
   "metadata": {},
   "outputs": [],
   "source": [
    "#with open('train_labels.pickle', 'wb') as f:\n",
    "    #pickle.dump(train_labels, f)"
   ]
  },
  {
   "cell_type": "code",
   "execution_count": 11,
   "id": "d2b45cb3",
   "metadata": {},
   "outputs": [],
   "source": [
    "#with open('test_images.pickle', 'wb') as f:\n",
    "    #pickle.dump(test_images, f)"
   ]
  },
  {
   "cell_type": "code",
   "execution_count": 12,
   "id": "157ea59a",
   "metadata": {},
   "outputs": [],
   "source": [
    "#with open('test_labels.pickle', 'wb') as f:\n",
    "    #pickle.dump(test_labels, f)"
   ]
  },
  {
   "cell_type": "code",
   "execution_count": 13,
   "id": "e714122d",
   "metadata": {},
   "outputs": [],
   "source": [
    "#with open('val_images.pickle', 'wb') as f:\n",
    "    #pickle.dump(val_images, f)\n",
    "\n",
    "    \n",
    "#with open('val_labels.pickle', 'wb') as f:\n",
    "    #pickle.dump(val_labels, f)\n",
    "    \n"
   ]
  },
  {
   "cell_type": "code",
   "execution_count": null,
   "id": "22ffb038",
   "metadata": {},
   "outputs": [],
   "source": []
  },
  {
   "cell_type": "code",
   "execution_count": 14,
   "id": "b0ab18ef",
   "metadata": {},
   "outputs": [],
   "source": [
    "with open('train_images.pickle', 'rb') as g:\n",
    "    train_images= pickle.load(g)\n",
    "with open('test_images.pickle', 'rb') as f:\n",
    "    test_images= pickle.load(f)\n",
    "with open('val_images.pickle', 'rb') as f:\n",
    "    val_images= pickle.load(f)\n",
    "    \n",
    "with open('train_labels.pickle', 'rb') as f:\n",
    "    train_labels= pickle.load(f)\n",
    "with open('test_labels.pickle', 'rb') as f:\n",
    "    test_labels= pickle.load(f)\n",
    "with open('val_labels.pickle', 'rb') as f:\n",
    "    val_labels= pickle.load(f)\n",
    "    \n",
    "    "
   ]
  },
  {
   "cell_type": "code",
   "execution_count": 15,
   "id": "4768aef0",
   "metadata": {},
   "outputs": [
    {
     "data": {
      "text/plain": [
       "array([1583., 4273.], dtype=float32)"
      ]
     },
     "execution_count": 15,
     "metadata": {},
     "output_type": "execute_result"
    }
   ],
   "source": [
    "sum(train_labels)+ sum(test_labels)+sum(val_labels)"
   ]
  },
  {
   "cell_type": "markdown",
   "id": "b65688f2",
   "metadata": {},
   "source": [
    "Class distribution is 1583 to 4273, i.e. 27% and 73%, normal and pneumonia.  "
   ]
  },
  {
   "cell_type": "code",
   "execution_count": 16,
   "id": "0a81bf76",
   "metadata": {},
   "outputs": [],
   "source": [
    "#array_to_image()"
   ]
  },
  {
   "cell_type": "markdown",
   "id": "3abf49c2",
   "metadata": {},
   "source": [
    "### Example "
   ]
  },
  {
   "cell_type": "markdown",
   "id": "96e445bf",
   "metadata": {},
   "source": [
    "![scan](./Images/scan.png)\n"
   ]
  },
  {
   "cell_type": "markdown",
   "id": "d1c70c0d",
   "metadata": {},
   "source": [
    "Combining data from train and test files."
   ]
  },
  {
   "cell_type": "code",
   "execution_count": 17,
   "id": "bfae61c6",
   "metadata": {},
   "outputs": [],
   "source": [
    "t = np.append(train_images, test_images, axis=0)\n",
    "t1 = np.append(train_labels, test_labels, axis=0)\n"
   ]
  },
  {
   "cell_type": "code",
   "execution_count": 18,
   "id": "6f3916ed",
   "metadata": {},
   "outputs": [],
   "source": [
    "from sklearn.model_selection import train_test_split"
   ]
  },
  {
   "cell_type": "markdown",
   "id": "8dfea732",
   "metadata": {},
   "source": [
    "Splitting combined data into training and test groups."
   ]
  },
  {
   "cell_type": "code",
   "execution_count": 19,
   "id": "c8d21b27",
   "metadata": {},
   "outputs": [],
   "source": [
    "train_images, test_images, train_labels, test_labels = train_test_split(t, t1, test_size = .25, random_state =5) "
   ]
  },
  {
   "cell_type": "markdown",
   "id": "d9bd78d5",
   "metadata": {},
   "source": [
    "Reshaping data for modelling purposes."
   ]
  },
  {
   "cell_type": "code",
   "execution_count": 20,
   "id": "47ce2685",
   "metadata": {},
   "outputs": [],
   "source": [
    "test_images = np.reshape(test_images, (np.shape(test_images)[0],64*64))\n"
   ]
  },
  {
   "cell_type": "code",
   "execution_count": 21,
   "id": "188f4346",
   "metadata": {},
   "outputs": [],
   "source": [
    "train_images = np.reshape(train_images, (np.shape(train_images)[0],64*64))\n",
    "np.shape(train_images)\n",
    "\n",
    "val_images = np.reshape(val_images, (np.shape(val_images)[0],64*64))\n"
   ]
  },
  {
   "cell_type": "markdown",
   "id": "2f663986",
   "metadata": {},
   "source": [
    "Removing extra column from labels."
   ]
  },
  {
   "cell_type": "code",
   "execution_count": 22,
   "id": "634bfccf",
   "metadata": {},
   "outputs": [],
   "source": [
    "train_labels= train_labels[:,0]\n",
    "val_labels= val_labels[:,0]\n",
    "test_labels= test_labels[:,0]"
   ]
  },
  {
   "cell_type": "markdown",
   "id": "30ffab15",
   "metadata": {},
   "source": [
    "Standardizing image data by diving by the maximum pixel value of 255."
   ]
  },
  {
   "cell_type": "code",
   "execution_count": 23,
   "id": "419588c8",
   "metadata": {},
   "outputs": [],
   "source": [
    "train_images=train_images/255\n",
    "\n"
   ]
  },
  {
   "cell_type": "code",
   "execution_count": 24,
   "id": "93ee940e",
   "metadata": {},
   "outputs": [],
   "source": [
    "val_images=val_images/255"
   ]
  },
  {
   "cell_type": "markdown",
   "id": "5f83fa1a",
   "metadata": {},
   "source": [
    "Imports"
   ]
  },
  {
   "cell_type": "code",
   "execution_count": 25,
   "id": "6f93439e",
   "metadata": {},
   "outputs": [],
   "source": [
    "import pandas as pd\n"
   ]
  },
  {
   "cell_type": "code",
   "execution_count": 26,
   "id": "780d7e23",
   "metadata": {},
   "outputs": [],
   "source": [
    "\n",
    "import matplotlib.pyplot as plt\n",
    "%matplotlib inline\n",
    "from keras.models import Sequential\n",
    "from keras.layers import Dense\n"
   ]
  },
  {
   "cell_type": "markdown",
   "id": "063cb0f7",
   "metadata": {},
   "source": [
    "# Modeling"
   ]
  },
  {
   "cell_type": "markdown",
   "id": "c889b3d5",
   "metadata": {},
   "source": [
    "Building initial model, a neural network with 1 hidden layer, with 64 neurons.\n"
   ]
  },
  {
   "cell_type": "code",
   "execution_count": 27,
   "id": "4d70db8f",
   "metadata": {},
   "outputs": [],
   "source": [
    "model = tf.keras.Sequential()\n",
    "model.add(tf.keras.layers.Dense(64, input_shape = (4096,), activation = 'tanh'))\n",
    "model.add(tf.keras.layers.Dense(1, activation = 'sigmoid'))\n"
   ]
  },
  {
   "cell_type": "code",
   "execution_count": 28,
   "id": "ec1047c4",
   "metadata": {},
   "outputs": [],
   "source": [
    "model.compile(optimizer = 'sgd', loss =  'mse', metrics = ['acc'])\n"
   ]
  },
  {
   "cell_type": "code",
   "execution_count": 29,
   "id": "0b437a6e",
   "metadata": {},
   "outputs": [
    {
     "name": "stdout",
     "output_type": "stream",
     "text": [
      "Epoch 1/15\n",
      "69/69 [==============================] - 1s 6ms/step - loss: 0.1721 - acc: 0.7400 - val_loss: 0.2160 - val_acc: 0.6875\n",
      "Epoch 2/15\n",
      "69/69 [==============================] - 0s 3ms/step - loss: 0.1381 - acc: 0.8139 - val_loss: 0.2134 - val_acc: 0.6875\n",
      "Epoch 3/15\n",
      "69/69 [==============================] - 0s 3ms/step - loss: 0.1203 - acc: 0.8578 - val_loss: 0.2103 - val_acc: 0.6875\n",
      "Epoch 4/15\n",
      "69/69 [==============================] - 0s 3ms/step - loss: 0.1097 - acc: 0.8664 - val_loss: 0.1994 - val_acc: 0.6875\n",
      "Epoch 5/15\n",
      "69/69 [==============================] - 0s 3ms/step - loss: 0.0997 - acc: 0.8815 - val_loss: 0.1477 - val_acc: 0.8125\n",
      "Epoch 6/15\n",
      "69/69 [==============================] - 0s 3ms/step - loss: 0.0955 - acc: 0.8911 - val_loss: 0.1400 - val_acc: 0.8125\n",
      "Epoch 7/15\n",
      "69/69 [==============================] - 0s 4ms/step - loss: 0.0921 - acc: 0.8904 - val_loss: 0.1330 - val_acc: 0.8750\n",
      "Epoch 8/15\n",
      "69/69 [==============================] - 0s 3ms/step - loss: 0.0890 - acc: 0.8950 - val_loss: 0.1952 - val_acc: 0.6875\n",
      "Epoch 9/15\n",
      "69/69 [==============================] - 0s 4ms/step - loss: 0.0857 - acc: 0.9000 - val_loss: 0.2157 - val_acc: 0.6250\n",
      "Epoch 10/15\n",
      "69/69 [==============================] - 0s 3ms/step - loss: 0.0856 - acc: 0.8989 - val_loss: 0.1586 - val_acc: 0.7500\n",
      "Epoch 11/15\n",
      "69/69 [==============================] - 0s 4ms/step - loss: 0.0823 - acc: 0.9039 - val_loss: 0.1399 - val_acc: 0.8125\n",
      "Epoch 12/15\n",
      "69/69 [==============================] - 0s 4ms/step - loss: 0.0817 - acc: 0.9002 - val_loss: 0.1759 - val_acc: 0.6875\n",
      "Epoch 13/15\n",
      "69/69 [==============================] - 0s 4ms/step - loss: 0.0799 - acc: 0.9037 - val_loss: 0.1221 - val_acc: 0.8750\n",
      "Epoch 14/15\n",
      "69/69 [==============================] - 0s 4ms/step - loss: 0.0795 - acc: 0.9032 - val_loss: 0.1218 - val_acc: 0.8750\n",
      "Epoch 15/15\n",
      "69/69 [==============================] - 0s 4ms/step - loss: 0.0781 - acc: 0.9050 - val_loss: 0.1124 - val_acc: 0.8750\n"
     ]
    },
    {
     "data": {
      "text/plain": [
       "<keras.src.callbacks.History at 0x290bdc373a0>"
      ]
     },
     "execution_count": 29,
     "metadata": {},
     "output_type": "execute_result"
    }
   ],
   "source": [
    "model.fit(train_images,train_labels, batch_size=64, epochs=15, validation_data =(val_images,val_labels))\n"
   ]
  },
  {
   "cell_type": "code",
   "execution_count": 30,
   "id": "13b8a4a3",
   "metadata": {},
   "outputs": [],
   "source": [
    "with open('model.pickle', 'wb') as f:\n",
    "    pickle.dump(model, f)\n"
   ]
  },
  {
   "cell_type": "code",
   "execution_count": 31,
   "id": "c351b0ef",
   "metadata": {},
   "outputs": [],
   "source": [
    "with open('model.pickle', 'rb') as g:\n",
    "    model= pickle.load(g)\n"
   ]
  },
  {
   "cell_type": "markdown",
   "id": "469f4df0",
   "metadata": {},
   "source": [
    "88% and 90% validation and training accuracies, suggests possible overfitting. Next model reduces the complexity of the model in order to reduce overfitting.\n"
   ]
  },
  {
   "cell_type": "markdown",
   "id": "f93ab6bb",
   "metadata": {},
   "source": [
    "Builing 1a model with 32 neurons and same tanh activation function.  "
   ]
  },
  {
   "cell_type": "code",
   "execution_count": 32,
   "id": "78f41b6a",
   "metadata": {},
   "outputs": [],
   "source": [
    "#model1a = tf.keras.Sequential()\n",
    "#model1a.add(tf.keras.layers.Dense(32, input_shape = (4096,), activation = 'tanh'))\n",
    "\n",
    "#model1a.add(tf.keras.layers.Dense(1, activation = 'sigmoid'))\n",
    "#model.add(tf.keras.layers.Activation('relu'))"
   ]
  },
  {
   "cell_type": "code",
   "execution_count": 33,
   "id": "59faca2c",
   "metadata": {},
   "outputs": [],
   "source": [
    "#model1a.compile(optimizer = 'sgd', loss =  'mse', metrics = ['acc'])\n"
   ]
  },
  {
   "cell_type": "code",
   "execution_count": 34,
   "id": "415407dc",
   "metadata": {},
   "outputs": [
    {
     "name": "stdout",
     "output_type": "stream",
     "text": [
      "Epoch 1/15\n",
      "69/69 [==============================] - 1s 4ms/step - loss: 0.1683 - acc: 0.7607 - val_loss: 0.2291 - val_acc: 0.5625\n",
      "Epoch 2/15\n",
      "69/69 [==============================] - 0s 3ms/step - loss: 0.1341 - acc: 0.8256 - val_loss: 0.1889 - val_acc: 0.8125\n",
      "Epoch 3/15\n",
      "69/69 [==============================] - 0s 3ms/step - loss: 0.1181 - acc: 0.8498 - val_loss: 0.1980 - val_acc: 0.6875\n",
      "Epoch 4/15\n",
      "69/69 [==============================] - 0s 3ms/step - loss: 0.1052 - acc: 0.8705 - val_loss: 0.2615 - val_acc: 0.5625\n",
      "Epoch 5/15\n",
      "69/69 [==============================] - 0s 3ms/step - loss: 0.1005 - acc: 0.8753 - val_loss: 0.2164 - val_acc: 0.6875\n",
      "Epoch 6/15\n",
      "69/69 [==============================] - 0s 3ms/step - loss: 0.0941 - acc: 0.8868 - val_loss: 0.1378 - val_acc: 0.8750\n",
      "Epoch 7/15\n",
      "69/69 [==============================] - 0s 3ms/step - loss: 0.0914 - acc: 0.8865 - val_loss: 0.1572 - val_acc: 0.8125\n",
      "Epoch 8/15\n",
      "69/69 [==============================] - 0s 3ms/step - loss: 0.0881 - acc: 0.8936 - val_loss: 0.1335 - val_acc: 0.8750\n",
      "Epoch 9/15\n",
      "69/69 [==============================] - 0s 3ms/step - loss: 0.0849 - acc: 0.8979 - val_loss: 0.1420 - val_acc: 0.8750\n",
      "Epoch 10/15\n",
      "69/69 [==============================] - 0s 3ms/step - loss: 0.0826 - acc: 0.9021 - val_loss: 0.1541 - val_acc: 0.8125\n",
      "Epoch 11/15\n",
      "69/69 [==============================] - 0s 3ms/step - loss: 0.0818 - acc: 0.9016 - val_loss: 0.1368 - val_acc: 0.8750\n",
      "Epoch 12/15\n",
      "69/69 [==============================] - 0s 3ms/step - loss: 0.0793 - acc: 0.9057 - val_loss: 0.1446 - val_acc: 0.8125\n",
      "Epoch 13/15\n",
      "69/69 [==============================] - 0s 3ms/step - loss: 0.0785 - acc: 0.9094 - val_loss: 0.1091 - val_acc: 0.8750\n",
      "Epoch 14/15\n",
      "69/69 [==============================] - 0s 3ms/step - loss: 0.0783 - acc: 0.9062 - val_loss: 0.1636 - val_acc: 0.7500\n",
      "Epoch 15/15\n",
      "69/69 [==============================] - 0s 3ms/step - loss: 0.0781 - acc: 0.9062 - val_loss: 0.1547 - val_acc: 0.8125\n"
     ]
    },
    {
     "data": {
      "text/plain": [
       "<keras.src.callbacks.History at 0x290bdf006d0>"
      ]
     },
     "execution_count": 34,
     "metadata": {},
     "output_type": "execute_result"
    }
   ],
   "source": [
    "#model1a.fit(train_images,train_labels, batch_size=64, epochs=15, validation_data =(val_images,val_labels))\n"
   ]
  },
  {
   "cell_type": "code",
   "execution_count": 35,
   "id": "53dba735",
   "metadata": {},
   "outputs": [],
   "source": [
    "#with open('model1a.pickle', 'wb') as f:\n",
    " #   pickle.dump(model1a, f)\n"
   ]
  },
  {
   "cell_type": "code",
   "execution_count": 36,
   "id": "01336d35",
   "metadata": {},
   "outputs": [],
   "source": [
    "#with open('model1a.pickle', 'rb') as g:\n",
    " #   model1a= pickle.load(g)\n"
   ]
  },
  {
   "cell_type": "markdown",
   "id": "1897a3e2",
   "metadata": {},
   "source": [
    "Same training acc of 90% but val acc hovering lower at 80% (88% in baseline), suggests that overfitting not solved. Next model increases the complexity of the model in order to increase accuracy."
   ]
  },
  {
   "cell_type": "markdown",
   "id": "e7a6d539",
   "metadata": {},
   "source": [
    "Builing second model by adding to baseline an additional layer with 32 neurons and same tanh activation function.  "
   ]
  },
  {
   "cell_type": "code",
   "execution_count": null,
   "id": "091b3008",
   "metadata": {},
   "outputs": [],
   "source": []
  },
  {
   "cell_type": "code",
   "execution_count": 37,
   "id": "672e58e1",
   "metadata": {},
   "outputs": [],
   "source": [
    "model2 = tf.keras.Sequential()\n",
    "model2.add(tf.keras.layers.Dense(64, input_shape = (4096,), activation = 'tanh'))\n",
    "model2.add(tf.keras.layers.Dense(32, activation = 'tanh'))\n",
    "model2.add(tf.keras.layers.Dense(1, activation = 'sigmoid'))\n",
    "#model.add(tf.keras.layers.Activation('relu'))"
   ]
  },
  {
   "cell_type": "code",
   "execution_count": 38,
   "id": "39151cfe",
   "metadata": {},
   "outputs": [],
   "source": [
    "model2.compile(optimizer = 'sgd', loss =  'mse', metrics = ['acc'])\n"
   ]
  },
  {
   "cell_type": "code",
   "execution_count": 39,
   "id": "094710f0",
   "metadata": {},
   "outputs": [
    {
     "name": "stdout",
     "output_type": "stream",
     "text": [
      "Epoch 1/15\n",
      "69/69 [==============================] - 1s 5ms/step - loss: 0.1676 - acc: 0.7596 - val_loss: 0.3356 - val_acc: 0.5000\n",
      "Epoch 2/15\n",
      "69/69 [==============================] - 0s 3ms/step - loss: 0.1313 - acc: 0.8301 - val_loss: 0.1678 - val_acc: 0.8750\n",
      "Epoch 3/15\n",
      "69/69 [==============================] - 0s 4ms/step - loss: 0.1130 - acc: 0.8537 - val_loss: 0.1628 - val_acc: 0.8125\n",
      "Epoch 4/15\n",
      "69/69 [==============================] - 0s 3ms/step - loss: 0.1044 - acc: 0.8669 - val_loss: 0.2877 - val_acc: 0.6250\n",
      "Epoch 5/15\n",
      "69/69 [==============================] - 0s 4ms/step - loss: 0.0955 - acc: 0.8806 - val_loss: 0.2900 - val_acc: 0.5625\n",
      "Epoch 6/15\n",
      "69/69 [==============================] - 0s 4ms/step - loss: 0.0888 - acc: 0.8897 - val_loss: 0.1573 - val_acc: 0.7500\n",
      "Epoch 7/15\n",
      "69/69 [==============================] - 0s 4ms/step - loss: 0.0875 - acc: 0.8888 - val_loss: 0.1383 - val_acc: 0.8750\n",
      "Epoch 8/15\n",
      "69/69 [==============================] - 0s 3ms/step - loss: 0.0887 - acc: 0.8849 - val_loss: 0.1090 - val_acc: 0.8750\n",
      "Epoch 9/15\n",
      "69/69 [==============================] - 0s 3ms/step - loss: 0.0841 - acc: 0.8943 - val_loss: 0.2939 - val_acc: 0.5625\n",
      "Epoch 10/15\n",
      "69/69 [==============================] - 0s 3ms/step - loss: 0.0808 - acc: 0.9005 - val_loss: 0.1055 - val_acc: 0.8750\n",
      "Epoch 11/15\n",
      "69/69 [==============================] - 0s 4ms/step - loss: 0.0800 - acc: 0.9030 - val_loss: 0.1564 - val_acc: 0.7500\n",
      "Epoch 12/15\n",
      "69/69 [==============================] - 0s 3ms/step - loss: 0.0784 - acc: 0.9048 - val_loss: 0.0943 - val_acc: 0.8750\n",
      "Epoch 13/15\n",
      "69/69 [==============================] - 0s 3ms/step - loss: 0.0767 - acc: 0.9046 - val_loss: 0.0940 - val_acc: 0.8750\n",
      "Epoch 14/15\n",
      "69/69 [==============================] - 0s 3ms/step - loss: 0.0778 - acc: 0.8989 - val_loss: 0.0863 - val_acc: 0.9375\n",
      "Epoch 15/15\n",
      "69/69 [==============================] - 0s 3ms/step - loss: 0.0736 - acc: 0.9075 - val_loss: 0.1023 - val_acc: 0.8750\n"
     ]
    },
    {
     "data": {
      "text/plain": [
       "<keras.src.callbacks.History at 0x290be2a3a60>"
      ]
     },
     "execution_count": 39,
     "metadata": {},
     "output_type": "execute_result"
    }
   ],
   "source": [
    "model2.fit(train_images,train_labels, batch_size=64, epochs=15, validation_data =(val_images,val_labels))\n"
   ]
  },
  {
   "cell_type": "code",
   "execution_count": 40,
   "id": "018515d8",
   "metadata": {},
   "outputs": [],
   "source": [
    "with open('model2.pickle', 'wb') as f:\n",
    "    pickle.dump(model2, f)\n"
   ]
  },
  {
   "cell_type": "code",
   "execution_count": 41,
   "id": "aa4e7e41",
   "metadata": {},
   "outputs": [],
   "source": [
    "with open('model2.pickle', 'rb') as g:\n",
    "    model2= pickle.load(g)\n"
   ]
  },
  {
   "cell_type": "markdown",
   "id": "b0c7d654",
   "metadata": {},
   "source": [
    "Model 2 training accuracy is improved from prior to 90% but, constant from baseline. "
   ]
  },
  {
   "cell_type": "markdown",
   "id": "257787ed",
   "metadata": {},
   "source": [
    "Building third model by increasing the learning rate of the optimizer from default .001 to .05 in order to try to increase accuracy.  "
   ]
  },
  {
   "cell_type": "markdown",
   "id": "7cf5e1b8",
   "metadata": {},
   "source": [
    "Use same layers as model2."
   ]
  },
  {
   "cell_type": "code",
   "execution_count": 42,
   "id": "767f7deb",
   "metadata": {},
   "outputs": [],
   "source": [
    "opt = tf.keras.optimizers.SGD(learning_rate = .05)\n",
    "model3 = tf.keras.Sequential()\n",
    "model3.add(tf.keras.layers.Dense(64, input_shape = (4096,), activation = 'tanh'))\n",
    "model3.add(tf.keras.layers.Dense(32, activation = 'tanh'))\n",
    "model3.add(tf.keras.layers.Dense(1, activation = 'sigmoid'))\n",
    "\n"
   ]
  },
  {
   "cell_type": "code",
   "execution_count": 43,
   "id": "ce118ed5",
   "metadata": {},
   "outputs": [],
   "source": [
    "model3.compile(optimizer = opt, loss =  'mse', metrics = ['acc'])\n"
   ]
  },
  {
   "cell_type": "code",
   "execution_count": 44,
   "id": "9e023111",
   "metadata": {},
   "outputs": [
    {
     "name": "stdout",
     "output_type": "stream",
     "text": [
      "Epoch 1/15\n",
      "69/69 [==============================] - 1s 4ms/step - loss: 0.1960 - acc: 0.7279 - val_loss: 0.2087 - val_acc: 0.7500\n",
      "Epoch 2/15\n",
      "69/69 [==============================] - 0s 4ms/step - loss: 0.1525 - acc: 0.7927 - val_loss: 0.2582 - val_acc: 0.5625\n",
      "Epoch 3/15\n",
      "69/69 [==============================] - 0s 3ms/step - loss: 0.1258 - acc: 0.8315 - val_loss: 0.3433 - val_acc: 0.5000\n",
      "Epoch 4/15\n",
      "69/69 [==============================] - 0s 4ms/step - loss: 0.1141 - acc: 0.8466 - val_loss: 0.1563 - val_acc: 0.8125\n",
      "Epoch 5/15\n",
      "69/69 [==============================] - 0s 3ms/step - loss: 0.1023 - acc: 0.8630 - val_loss: 0.1146 - val_acc: 0.8750\n",
      "Epoch 6/15\n",
      "69/69 [==============================] - 0s 4ms/step - loss: 0.0970 - acc: 0.8737 - val_loss: 0.1694 - val_acc: 0.7500\n",
      "Epoch 7/15\n",
      "69/69 [==============================] - 0s 3ms/step - loss: 0.0899 - acc: 0.8801 - val_loss: 0.3008 - val_acc: 0.5625\n",
      "Epoch 8/15\n",
      "69/69 [==============================] - 0s 3ms/step - loss: 0.0910 - acc: 0.8833 - val_loss: 0.1441 - val_acc: 0.8125\n",
      "Epoch 9/15\n",
      "69/69 [==============================] - 0s 4ms/step - loss: 0.0845 - acc: 0.8902 - val_loss: 0.0857 - val_acc: 0.9375\n",
      "Epoch 10/15\n",
      "69/69 [==============================] - 0s 4ms/step - loss: 0.0840 - acc: 0.8902 - val_loss: 0.0834 - val_acc: 0.8750\n",
      "Epoch 11/15\n",
      "69/69 [==============================] - 0s 4ms/step - loss: 0.0813 - acc: 0.8959 - val_loss: 0.0822 - val_acc: 0.8750\n",
      "Epoch 12/15\n",
      "69/69 [==============================] - 0s 3ms/step - loss: 0.0764 - acc: 0.9057 - val_loss: 0.0697 - val_acc: 0.9375\n",
      "Epoch 13/15\n",
      "69/69 [==============================] - 0s 3ms/step - loss: 0.0739 - acc: 0.9084 - val_loss: 0.0702 - val_acc: 0.9375\n",
      "Epoch 14/15\n",
      "69/69 [==============================] - 0s 4ms/step - loss: 0.0763 - acc: 0.9023 - val_loss: 0.0687 - val_acc: 0.9375\n",
      "Epoch 15/15\n",
      "69/69 [==============================] - 0s 4ms/step - loss: 0.0797 - acc: 0.8957 - val_loss: 0.1700 - val_acc: 0.7500\n"
     ]
    },
    {
     "data": {
      "text/plain": [
       "<keras.src.callbacks.History at 0x290be365040>"
      ]
     },
     "execution_count": 44,
     "metadata": {},
     "output_type": "execute_result"
    }
   ],
   "source": [
    "model3.fit(train_images,train_labels, batch_size=64, epochs=15, validation_data =(val_images,val_labels))\n"
   ]
  },
  {
   "cell_type": "code",
   "execution_count": 45,
   "id": "57f8a3ca",
   "metadata": {},
   "outputs": [],
   "source": [
    "with open('model3.pickle', 'wb') as f:\n",
    "    pickle.dump(model3, f)\n"
   ]
  },
  {
   "cell_type": "code",
   "execution_count": 46,
   "id": "fed2b680",
   "metadata": {},
   "outputs": [],
   "source": [
    "with open('model3.pickle', 'rb') as g:\n",
    "    model3= pickle.load(g)\n"
   ]
  },
  {
   "cell_type": "markdown",
   "id": "8c8a312d",
   "metadata": {},
   "source": [
    "Appears to be over-learning, minimum loss is overshot. But accuracy is highest with 90% and around 90 % for training and validation respectively. Model 3 has best performance."
   ]
  },
  {
   "cell_type": "markdown",
   "id": "b9cc504b",
   "metadata": {},
   "source": [
    "![acctable](./Images/acctable.png)\n"
   ]
  },
  {
   "cell_type": "markdown",
   "id": "2da7a4c4",
   "metadata": {},
   "source": [
    "![acctablex](./Images/acctablex.png)"
   ]
  },
  {
   "cell_type": "markdown",
   "id": "e3093773",
   "metadata": {},
   "source": [
    "Evaluate model 3 on test set."
   ]
  },
  {
   "cell_type": "code",
   "execution_count": 48,
   "id": "469c3456",
   "metadata": {},
   "outputs": [],
   "source": [
    "test_images=test_images/255"
   ]
  },
  {
   "cell_type": "code",
   "execution_count": 49,
   "id": "f0261335",
   "metadata": {},
   "outputs": [
    {
     "name": "stdout",
     "output_type": "stream",
     "text": [
      "46/46 [==============================] - 0s 1ms/step - loss: 0.0873 - acc: 0.8856\n"
     ]
    },
    {
     "data": {
      "text/plain": [
       "[0.08725250512361526, 0.8856164216995239]"
      ]
     },
     "execution_count": 49,
     "metadata": {},
     "output_type": "execute_result"
    }
   ],
   "source": [
    "model3.evaluate(test_images, test_labels)"
   ]
  },
  {
   "cell_type": "markdown",
   "id": "cd708a5e",
   "metadata": {},
   "source": [
    "Accuracy on test set is 88%."
   ]
  },
  {
   "cell_type": "code",
   "execution_count": 52,
   "id": "f67b7be0",
   "metadata": {},
   "outputs": [
    {
     "name": "stdout",
     "output_type": "stream",
     "text": [
      "46/46 [==============================] - 0s 1ms/step\n"
     ]
    }
   ],
   "source": [
    "preds = model3.predict(test_images)"
   ]
  },
  {
   "cell_type": "code",
   "execution_count": 53,
   "id": "fd53e0cc",
   "metadata": {},
   "outputs": [],
   "source": [
    "yhat= []\n",
    "for i in preds:\n",
    "    if i<.5:\n",
    "        yhat.append(0)\n",
    "    else:\n",
    "        yhat.append(1)\n"
   ]
  },
  {
   "cell_type": "code",
   "execution_count": 54,
   "id": "39493afa",
   "metadata": {},
   "outputs": [],
   "source": [
    "from sklearn.metrics import confusion_matrix"
   ]
  },
  {
   "cell_type": "code",
   "execution_count": 55,
   "id": "d04e6bc1",
   "metadata": {},
   "outputs": [],
   "source": [
    "cnf = confusion_matrix(test_labels, yhat)"
   ]
  },
  {
   "cell_type": "code",
   "execution_count": 56,
   "id": "e9b65d56",
   "metadata": {},
   "outputs": [
    {
     "data": {
      "text/plain": [
       "array([[1061,   19],\n",
       "       [ 148,  232]], dtype=int64)"
      ]
     },
     "execution_count": 56,
     "metadata": {},
     "output_type": "execute_result"
    }
   ],
   "source": [
    "cnf"
   ]
  },
  {
   "cell_type": "code",
   "execution_count": 57,
   "id": "82cd951c",
   "metadata": {},
   "outputs": [],
   "source": [
    "from sklearn.metrics import ConfusionMatrixDisplay"
   ]
  },
  {
   "cell_type": "code",
   "execution_count": 58,
   "id": "a0e198b8",
   "metadata": {},
   "outputs": [
    {
     "data": {
      "text/plain": [
       "<sklearn.metrics._plot.confusion_matrix.ConfusionMatrixDisplay at 0x290be17dac0>"
      ]
     },
     "execution_count": 58,
     "metadata": {},
     "output_type": "execute_result"
    },
    {
     "data": {
      "image/png": "[encoded data removed]",
      "text/plain": [
       "<Figure size 640x480 with 2 Axes>"
      ]
     },
     "metadata": {},
     "output_type": "display_data"
    }
   ],
   "source": [
    "cmd = ConfusionMatrixDisplay(cnf)\n",
    "cmd=cmd.from_predictions(test_labels, yhat)\n",
    "cmd"
   ]
  },
  {
   "cell_type": "markdown",
   "id": "fd94116b",
   "metadata": {},
   "source": [
    "19 false negatives and 148 false positives out of 1460 predictions. False negatives represent pneumonia x-rays classified as normal and are more harmful than false positives. 1% false negative rate is acceptably low.  "
   ]
  },
  {
   "cell_type": "markdown",
   "id": "64a286cb",
   "metadata": {},
   "source": [
    "# Results/Conclusions"
   ]
  },
  {
   "cell_type": "markdown",
   "id": "05ed37f0",
   "metadata": {},
   "source": [
    "Model3 performed best.  The chosen model's accuracy on the holdout test set was 88%.  This can be compared to guessing based on the sample balance, which would yield 73% accuracy.  The false negative rate was very low at 1%. Thus this model can be used as a check by the radiologist, for instance on x-rays that they are less certain about.  "
   ]
  },
  {
   "cell_type": "markdown",
   "id": "d7d9f9ad",
   "metadata": {},
   "source": [
    "# Recommendations and Future work\n",
    "- This model can be used as a check by the radiologist, for instance on x-rays that they are less certain about.\n",
    "- The model can be examined to determine the important features and the parts of the image that are most important for helpful insights.\n",
    "\n",
    "### Future work\n",
    "\n",
    "- Use CNN\n",
    "- Alter activation functions`"
   ]
  },
  {
   "cell_type": "markdown",
   "id": "732eaabd",
   "metadata": {},
   "source": [
    "# Contact information"
   ]
  },
  {
   "cell_type": "markdown",
   "id": "2be4d27b",
   "metadata": {},
   "source": [
    "jmarksk@gmail.com\n",
    "5169963175"
   ]
  },
  {
   "cell_type": "markdown",
   "id": "19161025",
   "metadata": {},
   "source": [
    "# Repository Structure"
   ]
  },
  {
   "cell_type": "code",
   "execution_count": null,
   "id": "58f1bb28",
   "metadata": {},
   "outputs": [],
   "source": [
    "- Xray.ipynb\n",
    "- README.md\n",
    "- Xray_presentation.pdf"
   ]
  }
 ],
 "metadata": {
  "kernelspec": {
   "display_name": "Python (dash-env)",
   "language": "python",
   "name": "dash-env"
  },
  "language_info": {
   "codemirror_mode": {
    "name": "ipython",
    "version": 3
   },
   "file_extension": ".py",
   "mimetype": "text/x-python",
   "name": "python",
   "nbconvert_exporter": "python",
   "pygments_lexer": "ipython3",
   "version": "3.8.12"
  }
 },
 "nbformat": 4,
 "nbformat_minor": 5
}

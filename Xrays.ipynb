{
 "cells": [
  {
   "cell_type": "markdown",
   "id": "e48f613c",
   "metadata": {},
   "source": [
    "# Xray classification\n",
    "\n"
   ]
  },
  {
   "cell_type": "markdown",
   "id": "979ad769",
   "metadata": {},
   "source": [
    "# Business Problem"
   ]
  },
  {
   "cell_type": "markdown",
   "id": "c3fd3516",
   "metadata": {},
   "source": [
    "The business problem is a radiologist who wants to double-check their work with a model that classifies x-rays as Pneumonia or normal.  The practice has supplied us with their x-rays that they have classified and has asked us to build a model which they can refer to on difficult to classify images. "
   ]
  },
  {
   "cell_type": "markdown",
   "id": "d9aad44e",
   "metadata": {},
   "source": [
    "# Data Understanding"
   ]
  },
  {
   "cell_type": "markdown",
   "id": "c2a0b042",
   "metadata": {},
   "source": [
    "The data consists of 5,856 chest x-ray images. Each image is labelled as either normal or pneumonia.  25% of the images are labelled normal and 75% pneumonia.  The data comes from an x-ray imaging lab. "
   ]
  },
  {
   "cell_type": "code",
   "execution_count": 237,
   "id": "f47dd35e",
   "metadata": {},
   "outputs": [],
   "source": [
    "from pathlib import Path"
   ]
  },
  {
   "cell_type": "code",
   "execution_count": 238,
   "id": "b49c226a",
   "metadata": {},
   "outputs": [],
   "source": [
    "import numpy as np"
   ]
  },
  {
   "cell_type": "code",
   "execution_count": 239,
   "id": "945e9892",
   "metadata": {},
   "outputs": [],
   "source": [
    "#i=Path('./data/archive/chest_xray/train')"
   ]
  },
  {
   "cell_type": "code",
   "execution_count": 240,
   "id": "3c5ff077",
   "metadata": {},
   "outputs": [],
   "source": [
    "from keras.preprocessing.image import ImageDataGenerator\n",
    "from tensorflow.keras.utils import array_to_img, img_to_array, load_img\n"
   ]
  },
  {
   "cell_type": "code",
   "execution_count": 241,
   "id": "6b29a1f2",
   "metadata": {},
   "outputs": [],
   "source": [
    "import tensorflow as tf"
   ]
  },
  {
   "cell_type": "markdown",
   "id": "717d21cf",
   "metadata": {},
   "source": [
    "Loading and converting data to array format."
   ]
  },
  {
   "cell_type": "code",
   "execution_count": 242,
   "id": "bfa0708e",
   "metadata": {},
   "outputs": [],
   "source": [
    "#data uploading\n",
    "#train_data_dir = i\n",
    "\n",
    "#Get all the data in the directory data/train, and reshape them\n",
    "#train_generator = ImageDataGenerator().flow_from_directory(\n",
    " #train_data_dir, \n",
    "   #target_size=(64, 64), batch_size=5216, color_mode = \"grayscale\")\n",
    "\n",
    "#Create the datasets\n",
    "#train_images, train_labels = next(train_generator)"
   ]
  },
  {
   "cell_type": "code",
   "execution_count": 243,
   "id": "5b100187",
   "metadata": {},
   "outputs": [],
   "source": [
    "#data uploading\n",
    "\n",
    "\n",
    "#Directory path\n",
    "#val_data_dir = './data/archive/chest_xray/val'\n",
    "#test_data_dir = './data/archive/chest_xray/test'\n",
    "\n",
    "#Get all the data in the directory data/train (790 images), and reshape them\n",
    "#val_generator = ImageDataGenerator().flow_from_directory(\n",
    "        #val_data_dir, \n",
    "        #target_size=(64, 64), batch_size= 16, color_mode = \"grayscale\")\n",
    "\n",
    "#Get all the data in the directory data/validation (132 images), and reshape them\n",
    "#test_generator = ImageDataGenerator().flow_from_directory(\n",
    "        #test_data_dir, \n",
    "        #target_size=(64, 64), batch_size=234+390, color_mode = \"grayscale\")\n",
    "\n",
    "\n",
    "#Create the datasets\n",
    "#val_images, val_labels = next(val_generator)\n",
    "#test_images, test_labels = next(test_generator)"
   ]
  },
  {
   "cell_type": "markdown",
   "id": "7581df4a",
   "metadata": {},
   "source": [
    "Pickling data"
   ]
  },
  {
   "cell_type": "code",
   "execution_count": 244,
   "id": "94911bec",
   "metadata": {},
   "outputs": [],
   "source": [
    "import pickle"
   ]
  },
  {
   "cell_type": "code",
   "execution_count": null,
   "id": "0cc338a6",
   "metadata": {},
   "outputs": [],
   "source": []
  },
  {
   "cell_type": "code",
   "execution_count": 245,
   "id": "d892b800",
   "metadata": {},
   "outputs": [],
   "source": [
    "#with open('train_images.pickle', 'wb') as f:\n",
    "    #pickle.dump(train_images, f)"
   ]
  },
  {
   "cell_type": "code",
   "execution_count": 246,
   "id": "7f6a5720",
   "metadata": {},
   "outputs": [],
   "source": [
    "#with open('train_labels.pickle', 'wb') as f:\n",
    "    #pickle.dump(train_labels, f)"
   ]
  },
  {
   "cell_type": "code",
   "execution_count": 247,
   "id": "d2b45cb3",
   "metadata": {},
   "outputs": [],
   "source": [
    "#with open('test_images.pickle', 'wb') as f:\n",
    "    #pickle.dump(test_images, f)"
   ]
  },
  {
   "cell_type": "code",
   "execution_count": 248,
   "id": "157ea59a",
   "metadata": {},
   "outputs": [],
   "source": [
    "#with open('test_labels.pickle', 'wb') as f:\n",
    "    #pickle.dump(test_labels, f)"
   ]
  },
  {
   "cell_type": "code",
   "execution_count": 249,
   "id": "e714122d",
   "metadata": {},
   "outputs": [],
   "source": [
    "#with open('val_images.pickle', 'wb') as f:\n",
    "    #pickle.dump(val_images, f)\n",
    "\n",
    "    \n",
    "#with open('val_labels.pickle', 'wb') as f:\n",
    "    #pickle.dump(val_labels, f)\n",
    "    \n"
   ]
  },
  {
   "cell_type": "code",
   "execution_count": 250,
   "id": "b0ab18ef",
   "metadata": {},
   "outputs": [],
   "source": [
    "with open('train_images.pickle', 'rb') as g:\n",
    "    train_images= pickle.load(g)\n",
    "with open('test_images.pickle', 'rb') as f:\n",
    "    test_images= pickle.load(f)\n",
    "with open('val_images.pickle', 'rb') as f:\n",
    "    val_images= pickle.load(f)\n",
    "    \n",
    "with open('train_labels.pickle', 'rb') as f:\n",
    "    train_labels= pickle.load(f)\n",
    "with open('test_labels.pickle', 'rb') as f:\n",
    "    test_labels= pickle.load(f)\n",
    "with open('val_labels.pickle', 'rb') as f:\n",
    "    val_labels= pickle.load(f)\n",
    "    \n",
    "    "
   ]
  },
  {
   "cell_type": "code",
   "execution_count": 251,
   "id": "4768aef0",
   "metadata": {},
   "outputs": [
    {
     "data": {
      "text/plain": [
       "array([1583., 4273.], dtype=float32)"
      ]
     },
     "execution_count": 251,
     "metadata": {},
     "output_type": "execute_result"
    }
   ],
   "source": [
    "sum(train_labels)+ sum(test_labels)+sum(val_labels)"
   ]
  },
  {
   "cell_type": "markdown",
   "id": "b65688f2",
   "metadata": {},
   "source": [
    "Class distribution is 1583 to 4273, i.e. 27% and 73%, normal and pneumonia.  "
   ]
  },
  {
   "cell_type": "code",
   "execution_count": 252,
   "id": "0a81bf76",
   "metadata": {},
   "outputs": [],
   "source": [
    "#array_to_image()"
   ]
  },
  {
   "cell_type": "markdown",
   "id": "3abf49c2",
   "metadata": {},
   "source": [
    "### Example "
   ]
  },
  {
   "cell_type": "markdown",
   "id": "96e445bf",
   "metadata": {},
   "source": [
    "![scan](./Images/scan.png)\n"
   ]
  },
  {
   "cell_type": "markdown",
   "id": "d1c70c0d",
   "metadata": {},
   "source": [
    "Combining data from train and test files."
   ]
  },
  {
   "cell_type": "code",
   "execution_count": 253,
   "id": "bfae61c6",
   "metadata": {},
   "outputs": [],
   "source": [
    "t = np.append(train_images, test_images, axis=0)\n",
    "t1 = np.append(train_labels, test_labels, axis=0)\n"
   ]
  },
  {
   "cell_type": "code",
   "execution_count": 254,
   "id": "6f3916ed",
   "metadata": {},
   "outputs": [],
   "source": [
    "from sklearn.model_selection import train_test_split"
   ]
  },
  {
   "cell_type": "markdown",
   "id": "8dfea732",
   "metadata": {},
   "source": [
    "Splitting combined data into training and test groups."
   ]
  },
  {
   "cell_type": "code",
   "execution_count": 255,
   "id": "c8d21b27",
   "metadata": {},
   "outputs": [],
   "source": [
    "train_images, test_images, train_labels, test_labels = train_test_split(t, t1, test_size = .25, random_state =5) "
   ]
  },
  {
   "cell_type": "markdown",
   "id": "d9bd78d5",
   "metadata": {},
   "source": [
    "Reshaping data for modelling purposes."
   ]
  },
  {
   "cell_type": "code",
   "execution_count": 256,
   "id": "47ce2685",
   "metadata": {},
   "outputs": [],
   "source": [
    "test_images = np.reshape(test_images, (np.shape(test_images)[0],64*64))\n"
   ]
  },
  {
   "cell_type": "code",
   "execution_count": 257,
   "id": "188f4346",
   "metadata": {},
   "outputs": [],
   "source": [
    "train_images = np.reshape(train_images, (np.shape(train_images)[0],64*64))\n",
    "np.shape(train_images)\n",
    "\n",
    "val_images = np.reshape(val_images, (np.shape(val_images)[0],64*64))\n"
   ]
  },
  {
   "cell_type": "markdown",
   "id": "2f663986",
   "metadata": {},
   "source": [
    "Removing extra column from labels."
   ]
  },
  {
   "cell_type": "code",
   "execution_count": 258,
   "id": "634bfccf",
   "metadata": {},
   "outputs": [],
   "source": [
    "train_labels= train_labels[:,0]\n",
    "val_labels= val_labels[:,0]\n",
    "test_labels= test_labels[:,0]"
   ]
  },
  {
   "cell_type": "markdown",
   "id": "30ffab15",
   "metadata": {},
   "source": [
    "Standardizing image data by diving by the maximum pixel value of 255."
   ]
  },
  {
   "cell_type": "code",
   "execution_count": 259,
   "id": "419588c8",
   "metadata": {},
   "outputs": [],
   "source": [
    "train_images=train_images/255\n",
    "\n"
   ]
  },
  {
   "cell_type": "code",
   "execution_count": 260,
   "id": "93ee940e",
   "metadata": {},
   "outputs": [],
   "source": [
    "val_images=val_images/255"
   ]
  },
  {
   "cell_type": "markdown",
   "id": "5f83fa1a",
   "metadata": {},
   "source": [
    "Imports"
   ]
  },
  {
   "cell_type": "code",
   "execution_count": 261,
   "id": "6f93439e",
   "metadata": {},
   "outputs": [],
   "source": [
    "import pandas as pd\n"
   ]
  },
  {
   "cell_type": "code",
   "execution_count": 262,
   "id": "780d7e23",
   "metadata": {},
   "outputs": [],
   "source": [
    "\n",
    "import matplotlib.pyplot as plt\n",
    "%matplotlib inline\n",
    "from keras.models import Sequential\n",
    "from keras.layers import Dense\n"
   ]
  },
  {
   "cell_type": "markdown",
   "id": "063cb0f7",
   "metadata": {},
   "source": [
    "# Modeling"
   ]
  },
  {
   "cell_type": "markdown",
   "id": "c889b3d5",
   "metadata": {},
   "source": [
    "Building initial model, a neural network with 1 hidden layer, with 64 neurons.\n"
   ]
  },
  {
   "cell_type": "code",
   "execution_count": 263,
   "id": "4d70db8f",
   "metadata": {},
   "outputs": [],
   "source": [
    "model = tf.keras.Sequential()\n",
    "model.add(tf.keras.layers.Dense(64, input_shape = (4096,), activation = 'tanh'))\n",
    "model.add(tf.keras.layers.Dense(1, activation = 'sigmoid'))\n"
   ]
  },
  {
   "cell_type": "code",
   "execution_count": 264,
   "id": "ec1047c4",
   "metadata": {},
   "outputs": [],
   "source": [
    "model.compile(optimizer = 'sgd', loss =  'mse', metrics = ['acc'])\n"
   ]
  },
  {
   "cell_type": "code",
   "execution_count": 265,
   "id": "0b437a6e",
   "metadata": {},
   "outputs": [
    {
     "name": "stdout",
     "output_type": "stream",
     "text": [
      "Epoch 1/15\n",
      "69/69 [==============================] - 1s 5ms/step - loss: 0.1778 - acc: 0.7322 - val_loss: 0.3191 - val_acc: 0.5000\n",
      "Epoch 2/15\n",
      "69/69 [==============================] - 0s 4ms/step - loss: 0.1387 - acc: 0.8174 - val_loss: 0.2179 - val_acc: 0.6875\n",
      "Epoch 3/15\n",
      "69/69 [==============================] - 0s 4ms/step - loss: 0.1185 - acc: 0.8607 - val_loss: 0.1682 - val_acc: 0.8125\n",
      "Epoch 4/15\n",
      "69/69 [==============================] - 0s 3ms/step - loss: 0.1097 - acc: 0.8685 - val_loss: 0.1661 - val_acc: 0.8125\n",
      "Epoch 5/15\n",
      "69/69 [==============================] - 0s 3ms/step - loss: 0.1016 - acc: 0.8822 - val_loss: 0.2055 - val_acc: 0.6875\n",
      "Epoch 6/15\n",
      "69/69 [==============================] - 0s 3ms/step - loss: 0.0974 - acc: 0.8831 - val_loss: 0.1954 - val_acc: 0.6875\n",
      "Epoch 7/15\n",
      "69/69 [==============================] - 0s 3ms/step - loss: 0.0933 - acc: 0.8854 - val_loss: 0.1672 - val_acc: 0.7500\n",
      "Epoch 8/15\n",
      "69/69 [==============================] - 0s 4ms/step - loss: 0.0888 - acc: 0.8945 - val_loss: 0.1745 - val_acc: 0.6875\n",
      "Epoch 9/15\n",
      "69/69 [==============================] - 0s 4ms/step - loss: 0.0881 - acc: 0.8952 - val_loss: 0.1254 - val_acc: 0.9375\n",
      "Epoch 10/15\n",
      "69/69 [==============================] - 0s 4ms/step - loss: 0.0852 - acc: 0.8995 - val_loss: 0.1204 - val_acc: 0.9375\n",
      "Epoch 11/15\n",
      "69/69 [==============================] - 0s 3ms/step - loss: 0.0829 - acc: 0.8998 - val_loss: 0.1444 - val_acc: 0.8125\n",
      "Epoch 12/15\n",
      "69/69 [==============================] - 0s 3ms/step - loss: 0.0815 - acc: 0.9014 - val_loss: 0.1547 - val_acc: 0.7500\n",
      "Epoch 13/15\n",
      "69/69 [==============================] - 0s 3ms/step - loss: 0.0811 - acc: 0.9023 - val_loss: 0.1108 - val_acc: 0.9375\n",
      "Epoch 14/15\n",
      "69/69 [==============================] - 0s 4ms/step - loss: 0.0787 - acc: 0.9059 - val_loss: 0.1085 - val_acc: 0.9375\n",
      "Epoch 15/15\n",
      "69/69 [==============================] - 0s 3ms/step - loss: 0.0774 - acc: 0.9071 - val_loss: 0.1170 - val_acc: 0.8750\n"
     ]
    },
    {
     "data": {
      "text/plain": [
       "<keras.src.callbacks.History at 0x258347e0b80>"
      ]
     },
     "execution_count": 265,
     "metadata": {},
     "output_type": "execute_result"
    }
   ],
   "source": [
    "model.fit(train_images,train_labels, batch_size=64, epochs=15, validation_data =(val_images,val_labels))\n"
   ]
  },
  {
   "attachments": {},
   "cell_type": "markdown",
   "id": "469f4df0",
   "metadata": {},
   "source": [
    "88% and 90% validation and training accuracies, suggests possible overfitting. Next model reduces the complexity of the model in order to reduce overfitting.\n"
   ]
  },
  {
   "cell_type": "markdown",
   "id": "f93ab6bb",
   "metadata": {},
   "source": [
    "Builing 1a model with 32 neurons and same tanh activation function.  "
   ]
  },
  {
   "cell_type": "code",
   "execution_count": 266,
   "id": "78f41b6a",
   "metadata": {},
   "outputs": [],
   "source": [
    "model1a = tf.keras.Sequential()\n",
    "model1a.add(tf.keras.layers.Dense(32, input_shape = (4096,), activation = 'tanh'))\n",
    "\n",
    "model1a.add(tf.keras.layers.Dense(1, activation = 'sigmoid'))\n",
    "#model.add(tf.keras.layers.Activation('relu'))"
   ]
  },
  {
   "cell_type": "code",
   "execution_count": 267,
   "id": "59faca2c",
   "metadata": {},
   "outputs": [],
   "source": [
    "model1a.compile(optimizer = 'sgd', loss =  'mse', metrics = ['acc'])\n"
   ]
  },
  {
   "cell_type": "code",
   "execution_count": 268,
   "id": "415407dc",
   "metadata": {},
   "outputs": [
    {
     "name": "stdout",
     "output_type": "stream",
     "text": [
      "Epoch 1/15\n",
      "69/69 [==============================] - 1s 4ms/step - loss: 0.1770 - acc: 0.7486 - val_loss: 0.2074 - val_acc: 0.6875\n",
      "Epoch 2/15\n",
      "69/69 [==============================] - 0s 3ms/step - loss: 0.1331 - acc: 0.8265 - val_loss: 0.2422 - val_acc: 0.5625\n",
      "Epoch 3/15\n",
      "69/69 [==============================] - 0s 3ms/step - loss: 0.1164 - acc: 0.8546 - val_loss: 0.1736 - val_acc: 0.8125\n",
      "Epoch 4/15\n",
      "69/69 [==============================] - 0s 3ms/step - loss: 0.1028 - acc: 0.8790 - val_loss: 0.1420 - val_acc: 0.7500\n",
      "Epoch 5/15\n",
      "69/69 [==============================] - 0s 3ms/step - loss: 0.0964 - acc: 0.8861 - val_loss: 0.1570 - val_acc: 0.8125\n",
      "Epoch 6/15\n",
      "69/69 [==============================] - 0s 3ms/step - loss: 0.0936 - acc: 0.8852 - val_loss: 0.1463 - val_acc: 0.8125\n",
      "Epoch 7/15\n",
      "69/69 [==============================] - 0s 3ms/step - loss: 0.0922 - acc: 0.8888 - val_loss: 0.1468 - val_acc: 0.8125\n",
      "Epoch 8/15\n",
      "69/69 [==============================] - 0s 3ms/step - loss: 0.0865 - acc: 0.8984 - val_loss: 0.1351 - val_acc: 0.8125\n",
      "Epoch 9/15\n",
      "69/69 [==============================] - 0s 3ms/step - loss: 0.0846 - acc: 0.8977 - val_loss: 0.1599 - val_acc: 0.8125\n",
      "Epoch 10/15\n",
      "69/69 [==============================] - 0s 3ms/step - loss: 0.0822 - acc: 0.9009 - val_loss: 0.1113 - val_acc: 0.8750\n",
      "Epoch 11/15\n",
      "69/69 [==============================] - 0s 3ms/step - loss: 0.0821 - acc: 0.8984 - val_loss: 0.1141 - val_acc: 0.8750\n",
      "Epoch 12/15\n",
      "69/69 [==============================] - 0s 3ms/step - loss: 0.0781 - acc: 0.9066 - val_loss: 0.1467 - val_acc: 0.8125\n",
      "Epoch 13/15\n",
      "69/69 [==============================] - 0s 3ms/step - loss: 0.0775 - acc: 0.9057 - val_loss: 0.1415 - val_acc: 0.8125\n",
      "Epoch 14/15\n",
      "69/69 [==============================] - 0s 3ms/step - loss: 0.0772 - acc: 0.9057 - val_loss: 0.1505 - val_acc: 0.8125\n",
      "Epoch 15/15\n",
      "69/69 [==============================] - 0s 3ms/step - loss: 0.0778 - acc: 0.9064 - val_loss: 0.0954 - val_acc: 0.9375\n"
     ]
    },
    {
     "data": {
      "text/plain": [
       "<keras.src.callbacks.History at 0x25834882fa0>"
      ]
     },
     "execution_count": 268,
     "metadata": {},
     "output_type": "execute_result"
    }
   ],
   "source": [
    "model1a.fit(train_images,train_labels, batch_size=64, epochs=15, validation_data =(val_images,val_labels))\n"
   ]
  },
  {
   "cell_type": "markdown",
   "id": "1897a3e2",
   "metadata": {},
   "source": [
    "Same training acc of 90% but val acc hovering higher at 90% (88% in baseline), suggests overfitting reduced. Next model increases the complexity of the model in order to increase accuracy."
   ]
  },
  {
   "cell_type": "markdown",
   "id": "e7a6d539",
   "metadata": {},
   "source": [
    "Builing second model by adding to baseline an additional layer with 32 neurons and same tanh activation function.  "
   ]
  },
  {
   "cell_type": "code",
   "execution_count": null,
   "id": "091b3008",
   "metadata": {},
   "outputs": [],
   "source": []
  },
  {
   "cell_type": "code",
   "execution_count": 269,
   "id": "672e58e1",
   "metadata": {},
   "outputs": [],
   "source": [
    "model2 = tf.keras.Sequential()\n",
    "model2.add(tf.keras.layers.Dense(64, input_shape = (4096,), activation = 'tanh'))\n",
    "model2.add(tf.keras.layers.Dense(32, activation = 'tanh'))\n",
    "model2.add(tf.keras.layers.Dense(1, activation = 'sigmoid'))\n",
    "#model.add(tf.keras.layers.Activation('relu'))"
   ]
  },
  {
   "cell_type": "code",
   "execution_count": 270,
   "id": "39151cfe",
   "metadata": {},
   "outputs": [],
   "source": [
    "model2.compile(optimizer = 'sgd', loss =  'mse', metrics = ['acc'])\n"
   ]
  },
  {
   "cell_type": "code",
   "execution_count": 271,
   "id": "094710f0",
   "metadata": {},
   "outputs": [
    {
     "name": "stdout",
     "output_type": "stream",
     "text": [
      "Epoch 1/15\n",
      "69/69 [==============================] - 1s 5ms/step - loss: 0.1767 - acc: 0.7452 - val_loss: 0.3544 - val_acc: 0.5000\n",
      "Epoch 2/15\n",
      "69/69 [==============================] - 0s 4ms/step - loss: 0.1324 - acc: 0.8281 - val_loss: 0.2459 - val_acc: 0.5625\n",
      "Epoch 3/15\n",
      "69/69 [==============================] - 0s 4ms/step - loss: 0.1149 - acc: 0.8557 - val_loss: 0.2048 - val_acc: 0.6875\n",
      "Epoch 4/15\n",
      "69/69 [==============================] - 0s 3ms/step - loss: 0.1017 - acc: 0.8719 - val_loss: 0.3107 - val_acc: 0.5000\n",
      "Epoch 5/15\n",
      "69/69 [==============================] - 0s 4ms/step - loss: 0.0958 - acc: 0.8826 - val_loss: 0.1792 - val_acc: 0.7500\n",
      "Epoch 6/15\n",
      "69/69 [==============================] - 0s 4ms/step - loss: 0.0936 - acc: 0.8811 - val_loss: 0.1059 - val_acc: 0.9375\n",
      "Epoch 7/15\n",
      "69/69 [==============================] - 0s 4ms/step - loss: 0.0886 - acc: 0.8897 - val_loss: 0.1922 - val_acc: 0.6875\n",
      "Epoch 8/15\n",
      "69/69 [==============================] - 0s 3ms/step - loss: 0.0849 - acc: 0.8947 - val_loss: 0.1141 - val_acc: 0.8750\n",
      "Epoch 9/15\n",
      "69/69 [==============================] - 0s 4ms/step - loss: 0.0828 - acc: 0.8991 - val_loss: 0.0922 - val_acc: 0.9375\n",
      "Epoch 10/15\n",
      "69/69 [==============================] - 0s 3ms/step - loss: 0.0798 - acc: 0.9018 - val_loss: 0.1038 - val_acc: 0.9375\n",
      "Epoch 11/15\n",
      "69/69 [==============================] - 0s 3ms/step - loss: 0.0785 - acc: 0.9023 - val_loss: 0.0924 - val_acc: 0.9375\n",
      "Epoch 12/15\n",
      "69/69 [==============================] - 0s 3ms/step - loss: 0.0763 - acc: 0.9066 - val_loss: 0.0845 - val_acc: 0.9375\n",
      "Epoch 13/15\n",
      "69/69 [==============================] - 0s 3ms/step - loss: 0.0755 - acc: 0.9064 - val_loss: 0.0822 - val_acc: 0.9375\n",
      "Epoch 14/15\n",
      "69/69 [==============================] - 0s 3ms/step - loss: 0.0749 - acc: 0.9089 - val_loss: 0.0837 - val_acc: 0.9375\n",
      "Epoch 15/15\n",
      "69/69 [==============================] - 0s 3ms/step - loss: 0.0749 - acc: 0.9075 - val_loss: 0.1784 - val_acc: 0.6875\n"
     ]
    },
    {
     "data": {
      "text/plain": [
       "<keras.src.callbacks.History at 0x258357050d0>"
      ]
     },
     "execution_count": 271,
     "metadata": {},
     "output_type": "execute_result"
    }
   ],
   "source": [
    "model2.fit(train_images,train_labels, batch_size=64, epochs=15, validation_data =(val_images,val_labels))\n"
   ]
  },
  {
   "cell_type": "markdown",
   "id": "b0c7d654",
   "metadata": {},
   "source": [
    "Model 2 validation accuracy is reduced to 81% as opposed to baseline model's 88% and model 1a's 90%."
   ]
  },
  {
   "cell_type": "markdown",
   "id": "257787ed",
   "metadata": {},
   "source": [
    "Building third model by increasing the learning rate of the optimizer from default .001 to .05 in order to try to increase accuracy.  "
   ]
  },
  {
   "cell_type": "markdown",
   "id": "7cf5e1b8",
   "metadata": {},
   "source": [
    "Use same layers as model2."
   ]
  },
  {
   "cell_type": "code",
   "execution_count": 272,
   "id": "767f7deb",
   "metadata": {},
   "outputs": [],
   "source": [
    "opt = tf.keras.optimizers.SGD(learning_rate = .05)\n",
    "model3 = tf.keras.Sequential()\n",
    "model3.add(tf.keras.layers.Dense(64, input_shape = (4096,), activation = 'tanh'))\n",
    "model3.add(tf.keras.layers.Dense(32, activation = 'tanh'))\n",
    "model3.add(tf.keras.layers.Dense(1, activation = 'sigmoid'))\n",
    "\n"
   ]
  },
  {
   "cell_type": "code",
   "execution_count": 273,
   "id": "ce118ed5",
   "metadata": {},
   "outputs": [],
   "source": [
    "model3.compile(optimizer = opt, loss =  'mse', metrics = ['acc'])\n"
   ]
  },
  {
   "cell_type": "code",
   "execution_count": 274,
   "id": "9e023111",
   "metadata": {},
   "outputs": [
    {
     "name": "stdout",
     "output_type": "stream",
     "text": [
      "Epoch 1/15\n",
      "69/69 [==============================] - 1s 5ms/step - loss: 0.1905 - acc: 0.7358 - val_loss: 0.3323 - val_acc: 0.5000\n",
      "Epoch 2/15\n",
      "69/69 [==============================] - 0s 4ms/step - loss: 0.1544 - acc: 0.7813 - val_loss: 0.2210 - val_acc: 0.6875\n",
      "Epoch 3/15\n",
      "69/69 [==============================] - 0s 4ms/step - loss: 0.1318 - acc: 0.8237 - val_loss: 0.1535 - val_acc: 0.8125\n",
      "Epoch 4/15\n",
      "69/69 [==============================] - 0s 4ms/step - loss: 0.1144 - acc: 0.8473 - val_loss: 0.1372 - val_acc: 0.7500\n",
      "Epoch 5/15\n",
      "69/69 [==============================] - 0s 4ms/step - loss: 0.1040 - acc: 0.8630 - val_loss: 0.1167 - val_acc: 0.8125\n",
      "Epoch 6/15\n",
      "69/69 [==============================] - 0s 3ms/step - loss: 0.0952 - acc: 0.8747 - val_loss: 0.1375 - val_acc: 0.8125\n",
      "Epoch 7/15\n",
      "69/69 [==============================] - 0s 4ms/step - loss: 0.0939 - acc: 0.8779 - val_loss: 0.1065 - val_acc: 0.8750\n",
      "Epoch 8/15\n",
      "69/69 [==============================] - 0s 4ms/step - loss: 0.0868 - acc: 0.8854 - val_loss: 0.0981 - val_acc: 0.8750\n",
      "Epoch 9/15\n",
      "69/69 [==============================] - 0s 3ms/step - loss: 0.0818 - acc: 0.8947 - val_loss: 0.0977 - val_acc: 0.8750\n",
      "Epoch 10/15\n",
      "69/69 [==============================] - 0s 3ms/step - loss: 0.0787 - acc: 0.8973 - val_loss: 0.1269 - val_acc: 0.8125\n",
      "Epoch 11/15\n",
      "69/69 [==============================] - 0s 4ms/step - loss: 0.0835 - acc: 0.8909 - val_loss: 0.0825 - val_acc: 0.9375\n",
      "Epoch 12/15\n",
      "69/69 [==============================] - 0s 3ms/step - loss: 0.0820 - acc: 0.8973 - val_loss: 0.0820 - val_acc: 0.8750\n",
      "Epoch 13/15\n",
      "69/69 [==============================] - 0s 3ms/step - loss: 0.0783 - acc: 0.9011 - val_loss: 0.1637 - val_acc: 0.7500\n",
      "Epoch 14/15\n",
      "69/69 [==============================] - 0s 3ms/step - loss: 0.0762 - acc: 0.9023 - val_loss: 0.1145 - val_acc: 0.8750\n",
      "Epoch 15/15\n",
      "69/69 [==============================] - 0s 3ms/step - loss: 0.0771 - acc: 0.9007 - val_loss: 0.1387 - val_acc: 0.8125\n"
     ]
    },
    {
     "data": {
      "text/plain": [
       "<keras.src.callbacks.History at 0x25834dbfdc0>"
      ]
     },
     "execution_count": 274,
     "metadata": {},
     "output_type": "execute_result"
    }
   ],
   "source": [
    "model3.fit(train_images,train_labels, batch_size=64, epochs=15, validation_data =(val_images,val_labels))\n"
   ]
  },
  {
   "cell_type": "markdown",
   "id": "8c8a312d",
   "metadata": {},
   "source": [
    "Appears to be over-learning, minimum loss is overshot.  Model1a has best performance."
   ]
  },
  {
   "cell_type": "markdown",
   "id": "b9cc504b",
   "metadata": {},
   "source": [
    "![acctable](./Images/acctable.png)\n"
   ]
  },
  {
   "cell_type": "markdown",
   "id": "e3093773",
   "metadata": {},
   "source": [
    "Evaluate model 1a on test set."
   ]
  },
  {
   "cell_type": "code",
   "execution_count": 275,
   "id": "469c3456",
   "metadata": {},
   "outputs": [],
   "source": [
    "test_images=test_images/255"
   ]
  },
  {
   "cell_type": "code",
   "execution_count": 276,
   "id": "f0261335",
   "metadata": {},
   "outputs": [
    {
     "name": "stdout",
     "output_type": "stream",
     "text": [
      "46/46 [==============================] - 0s 1ms/step - loss: 0.0890 - acc: 0.8870\n"
     ]
    },
    {
     "data": {
      "text/plain": [
       "[0.08899200707674026, 0.8869863152503967]"
      ]
     },
     "execution_count": 276,
     "metadata": {},
     "output_type": "execute_result"
    }
   ],
   "source": [
    "model1a.evaluate(test_images, test_labels)"
   ]
  },
  {
   "cell_type": "markdown",
   "id": "cd708a5e",
   "metadata": {},
   "source": [
    "Accuracy on test set is 86%."
   ]
  },
  {
   "cell_type": "code",
   "execution_count": 277,
   "id": "f67b7be0",
   "metadata": {},
   "outputs": [
    {
     "name": "stdout",
     "output_type": "stream",
     "text": [
      "46/46 [==============================] - 0s 1ms/step\n"
     ]
    }
   ],
   "source": [
    "preds = model1a.predict(test_images)"
   ]
  },
  {
   "cell_type": "code",
   "execution_count": 278,
   "id": "fd53e0cc",
   "metadata": {},
   "outputs": [],
   "source": [
    "yhat= []\n",
    "for i in preds:\n",
    "    if i<.5:\n",
    "        yhat.append(0)\n",
    "    else:\n",
    "        yhat.append(1)\n"
   ]
  },
  {
   "cell_type": "code",
   "execution_count": 279,
   "id": "39493afa",
   "metadata": {},
   "outputs": [],
   "source": [
    "from sklearn.metrics import confusion_matrix"
   ]
  },
  {
   "cell_type": "code",
   "execution_count": 280,
   "id": "d04e6bc1",
   "metadata": {},
   "outputs": [],
   "source": [
    "cnf = confusion_matrix(test_labels, yhat)"
   ]
  },
  {
   "cell_type": "code",
   "execution_count": 281,
   "id": "e9b65d56",
   "metadata": {},
   "outputs": [
    {
     "data": {
      "text/plain": [
       "array([[982,  98],\n",
       "       [ 67, 313]], dtype=int64)"
      ]
     },
     "execution_count": 281,
     "metadata": {},
     "output_type": "execute_result"
    }
   ],
   "source": [
    "cnf"
   ]
  },
  {
   "cell_type": "code",
   "execution_count": 282,
   "id": "82cd951c",
   "metadata": {},
   "outputs": [],
   "source": [
    "from sklearn.metrics import ConfusionMatrixDisplay"
   ]
  },
  {
   "cell_type": "code",
   "execution_count": 283,
   "id": "a0e198b8",
   "metadata": {},
   "outputs": [
    {
     "data": {
      "text/plain": [
       "<sklearn.metrics._plot.confusion_matrix.ConfusionMatrixDisplay at 0x258356f81c0>"
      ]
     },
     "execution_count": 283,
     "metadata": {},
     "output_type": "execute_result"
    },
    {
     "data": {
      "image/png": "[encoded data removed]",
      "text/plain": [
       "<Figure size 640x480 with 2 Axes>"
      ]
     },
     "metadata": {},
     "output_type": "display_data"
    }
   ],
   "source": [
    "cmd = ConfusionMatrixDisplay(cnf)\n",
    "cmd=cmd.from_predictions(test_labels, yhat)\n",
    "cmd"
   ]
  },
  {
   "cell_type": "markdown",
   "id": "fd94116b",
   "metadata": {},
   "source": [
    "13 false negatives and 188 false positives out of 1460 predictions. False negatives represent pneumonia x-rays classified as normal and are more harmful than false positives. 1% false negative rate is acceptably low.  "
   ]
  },
  {
   "cell_type": "markdown",
   "id": "64a286cb",
   "metadata": {},
   "source": [
    "# Results/Conclusions"
   ]
  },
  {
   "cell_type": "markdown",
   "id": "05ed37f0",
   "metadata": {},
   "source": [
    "Model1a performed best.  The chosen model's accuracy on the holdout test set was 86%.  This can be compared to guessing based on the sample balance, which would yield 73% accuracy.  The false negative rate was very low at 1%. Thus this model can be used as a check by the radiologist, for instance on x-rays that they are less certain about.  "
   ]
  },
  {
   "cell_type": "markdown",
   "id": "d7d9f9ad",
   "metadata": {},
   "source": [
    "# Future work\n"
   ]
  },
  {
   "cell_type": "markdown",
   "id": "6a773464",
   "metadata": {},
   "source": [
    "- Use CNN\n",
    "- Alter activation functions"
   ]
  },
  {
   "cell_type": "code",
   "execution_count": null,
   "id": "6da5c336",
   "metadata": {},
   "outputs": [],
   "source": []
  }
 ],
 "metadata": {
  "kernelspec": {
   "display_name": "Python (dash-env)",
   "language": "python",
   "name": "dash-env"
  },
  "language_info": {
   "codemirror_mode": {
    "name": "ipython",
    "version": 3
   },
   "file_extension": ".py",
   "mimetype": "text/x-python",
   "name": "python",
   "nbconvert_exporter": "python",
   "pygments_lexer": "ipython3",
   "version": "3.8.12"
  }
 },
 "nbformat": 4,
 "nbformat_minor": 5
}

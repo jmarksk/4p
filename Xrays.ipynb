{
 "cells": [
  {
   "cell_type": "markdown",
   "id": "979ad769",
   "metadata": {},
   "source": [
    "# Business Problem"
   ]
  },
  {
   "cell_type": "markdown",
   "id": "c3fd3516",
   "metadata": {},
   "source": [
    "The business problem is a radiologist who wants to double-check their work with a model that classifies x-rays as Pneumonia or normal."
   ]
  },
  {
   "cell_type": "markdown",
   "id": "d9aad44e",
   "metadata": {},
   "source": [
    "# Data Understanding"
   ]
  },
  {
   "cell_type": "markdown",
   "id": "c2a0b042",
   "metadata": {},
   "source": [
    "The data consists of 5,856 chest x-ray images. Each image is labelled as either normal or pneumonia.  25% of the images are labelled normal and 75% pneumonia.  "
   ]
  },
  {
   "cell_type": "code",
   "execution_count": 2,
   "id": "f47dd35e",
   "metadata": {},
   "outputs": [],
   "source": [
    "from pathlib import Path"
   ]
  },
  {
   "cell_type": "code",
   "execution_count": 3,
   "id": "b49c226a",
   "metadata": {},
   "outputs": [],
   "source": [
    "import numpy as np"
   ]
  },
  {
   "cell_type": "code",
   "execution_count": 4,
   "id": "945e9892",
   "metadata": {},
   "outputs": [],
   "source": [
    "i=Path('./data/archive/chest_xray/train')"
   ]
  },
  {
   "cell_type": "code",
   "execution_count": 5,
   "id": "3c5ff077",
   "metadata": {},
   "outputs": [],
   "source": [
    "from keras.preprocessing.image import ImageDataGenerator\n",
    "from tensorflow.keras.utils import array_to_img, img_to_array, load_img\n"
   ]
  },
  {
   "cell_type": "code",
   "execution_count": 6,
   "id": "6b29a1f2",
   "metadata": {},
   "outputs": [],
   "source": [
    "import tensorflow as tf"
   ]
  },
  {
   "cell_type": "markdown",
   "id": "717d21cf",
   "metadata": {},
   "source": [
    "Loading and converting data to array format."
   ]
  },
  {
   "cell_type": "code",
   "execution_count": 73,
   "id": "c68a5d20",
   "metadata": {},
   "outputs": [
    {
     "name": "stdout",
     "output_type": "stream",
     "text": [
      "Found 5216 images belonging to 2 classes.\n"
     ]
    }
   ],
   "source": [
    "#DONT RUN\n",
    "train_data_dir = i\n",
    "\n",
    "# Get all the data in the directory data/train, and reshape them\n",
    "train_generator = ImageDataGenerator().flow_from_directory(\n",
    "        train_data_dir, \n",
    "        target_size=(64, 64), batch_size=5216, color_mode = \"grayscale\")\n",
    "\n",
    "# Create the datasets\n",
    "train_images, train_labels = next(train_generator)"
   ]
  },
  {
   "cell_type": "code",
   "execution_count": 55,
   "id": "f539ed1d",
   "metadata": {},
   "outputs": [
    {
     "data": {
      "text/plain": [
       "(5216, 64, 64, 1)"
      ]
     },
     "execution_count": 55,
     "metadata": {},
     "output_type": "execute_result"
    }
   ],
   "source": [
    "np.shape(train_images)"
   ]
  },
  {
   "cell_type": "code",
   "execution_count": 78,
   "id": "3c26c4f2",
   "metadata": {},
   "outputs": [
    {
     "name": "stdout",
     "output_type": "stream",
     "text": [
      "Found 16 images belonging to 2 classes.\n",
      "Found 624 images belonging to 2 classes.\n"
     ]
    }
   ],
   "source": [
    "#DONT RUN\n",
    "\n",
    "\n",
    "# Directory path\n",
    "val_data_dir = './data/archive/chest_xray/val'\n",
    "test_data_dir = './data/archive/chest_xray/test'\n",
    "\n",
    "# Get all the data in the directory data/train (790 images), and reshape them\n",
    "val_generator = ImageDataGenerator().flow_from_directory(\n",
    "        val_data_dir, \n",
    "        target_size=(64, 64), batch_size= 16, color_mode = \"grayscale\")\n",
    "\n",
    "# Get all the data in the directory data/validation (132 images), and reshape them\n",
    "test_generator = ImageDataGenerator().flow_from_directory(\n",
    "        test_data_dir, \n",
    "        target_size=(64, 64), batch_size=234+390, color_mode = \"grayscale\")\n",
    "\n",
    "\n",
    "# Create the datasets\n",
    "val_images, val_labels = next(val_generator)\n",
    "test_images, test_labels = next(test_generator)"
   ]
  },
  {
   "cell_type": "code",
   "execution_count": 56,
   "id": "d8156512",
   "metadata": {},
   "outputs": [
    {
     "data": {
      "image/jpeg": "[encoded data removed]",
      "image/png": "[encoded data removed]",
      "text/plain": [
       "<PIL.Image.Image image mode=L size=64x64>"
      ]
     },
     "execution_count": 56,
     "metadata": {},
     "output_type": "execute_result"
    }
   ],
   "source": [
    "array_to_img(train_images[6])"
   ]
  },
  {
   "cell_type": "code",
   "execution_count": 15,
   "id": "c4d0728b",
   "metadata": {},
   "outputs": [
    {
     "data": {
      "text/plain": [
       "array([1583., 4273.], dtype=float32)"
      ]
     },
     "execution_count": 15,
     "metadata": {},
     "output_type": "execute_result"
    }
   ],
   "source": [
    "sum(train_labels1)+ sum(test_labels1)+sum(val_labels1)"
   ]
  },
  {
   "cell_type": "markdown",
   "id": "6629464a",
   "metadata": {},
   "source": [
    "Training class distribution is 1583 to 4273, i.e. 27% and 73%, normal and pneumonia.  "
   ]
  },
  {
   "cell_type": "markdown",
   "id": "7581df4a",
   "metadata": {},
   "source": [
    "Pickling data"
   ]
  },
  {
   "cell_type": "code",
   "execution_count": 8,
   "id": "94911bec",
   "metadata": {},
   "outputs": [],
   "source": [
    "import pickle"
   ]
  },
  {
   "cell_type": "code",
   "execution_count": 74,
   "id": "e57b7e68",
   "metadata": {},
   "outputs": [],
   "source": [
    "with open('train_images.pickle', 'wb') as f:\n",
    "    pickle.dump(train_images, f)"
   ]
  },
  {
   "cell_type": "code",
   "execution_count": null,
   "id": "0cc338a6",
   "metadata": {},
   "outputs": [],
   "source": []
  },
  {
   "cell_type": "code",
   "execution_count": 75,
   "id": "7f6a5720",
   "metadata": {},
   "outputs": [],
   "source": [
    "with open('train_labels.pickle', 'wb') as f:\n",
    "    pickle.dump(train_labels, f)"
   ]
  },
  {
   "cell_type": "code",
   "execution_count": 79,
   "id": "d2b45cb3",
   "metadata": {},
   "outputs": [],
   "source": [
    "with open('test_images.pickle', 'wb') as f:\n",
    "    pickle.dump(test_images, f)"
   ]
  },
  {
   "cell_type": "code",
   "execution_count": 69,
   "id": "157ea59a",
   "metadata": {},
   "outputs": [],
   "source": [
    "with open('test_labels.pickle', 'wb') as f:\n",
    "    pickle.dump(test_labels, f)"
   ]
  },
  {
   "cell_type": "code",
   "execution_count": 80,
   "id": "e714122d",
   "metadata": {},
   "outputs": [],
   "source": [
    "with open('val_images.pickle', 'wb') as f:\n",
    "    pickle.dump(val_images, f)\n",
    "\n",
    "    \n",
    "with open('val_labels.pickle', 'wb') as f:\n",
    "    pickle.dump(val_labels, f)\n",
    "    \n"
   ]
  },
  {
   "cell_type": "code",
   "execution_count": 16,
   "id": "b0ab18ef",
   "metadata": {},
   "outputs": [],
   "source": [
    "with open('train_images.pickle', 'rb') as g:\n",
    "    train_images2= pickle.load(g)\n",
    "with open('test_images.pickle', 'rb') as f:\n",
    "    test_images1= pickle.load(f)\n",
    "with open('val_images.pickle', 'rb') as f:\n",
    "    val_images1= pickle.load(f)\n",
    "    \n",
    "with open('train_labels.pickle', 'rb') as f:\n",
    "    train_labels1= pickle.load(f)\n",
    "with open('test_labels.pickle', 'rb') as f:\n",
    "    test_labels1= pickle.load(f)\n",
    "with open('val_labels.pickle', 'rb') as f:\n",
    "    val_labels1= pickle.load(f)\n",
    "    \n",
    "    "
   ]
  },
  {
   "cell_type": "markdown",
   "id": "d1c70c0d",
   "metadata": {},
   "source": [
    "Combining data from files."
   ]
  },
  {
   "cell_type": "code",
   "execution_count": 17,
   "id": "bfae61c6",
   "metadata": {},
   "outputs": [],
   "source": [
    "t = np.append(train_images2, val_images1, axis=0)\n",
    "t1 = np.append(train_labels1, val_labels1, axis=0)\n"
   ]
  },
  {
   "cell_type": "code",
   "execution_count": 18,
   "id": "d19e7d8d",
   "metadata": {},
   "outputs": [
    {
     "data": {
      "text/plain": [
       "(5856, 64, 64, 1)"
      ]
     },
     "execution_count": 18,
     "metadata": {},
     "output_type": "execute_result"
    }
   ],
   "source": [
    "t = np.append(t, test_images1, axis=0)\n",
    "t1 = np.append(t1, test_labels1, axis=0)\n",
    "np.shape(t)"
   ]
  },
  {
   "cell_type": "code",
   "execution_count": 19,
   "id": "6f3916ed",
   "metadata": {},
   "outputs": [],
   "source": [
    "from sklearn.model_selection import train_test_split"
   ]
  },
  {
   "cell_type": "code",
   "execution_count": 10,
   "id": "979ef6aa",
   "metadata": {},
   "outputs": [
    {
     "data": {
      "text/plain": [
       "(5856, 2)"
      ]
     },
     "execution_count": 10,
     "metadata": {},
     "output_type": "execute_result"
    }
   ],
   "source": [
    "\n",
    "np.shape(t1) "
   ]
  },
  {
   "cell_type": "markdown",
   "id": "8dfea732",
   "metadata": {},
   "source": [
    "Splitting data into training, validation and test groups."
   ]
  },
  {
   "cell_type": "code",
   "execution_count": 20,
   "id": "c8d21b27",
   "metadata": {},
   "outputs": [],
   "source": [
    "train_images, test_images, train_labels, test_labels = train_test_split(t, t1, random_state =5) \n",
    "train_images, val_images, train_labels, val_labels = train_test_split(train_images, train_labels, random_state =5) "
   ]
  },
  {
   "cell_type": "markdown",
   "id": "d9bd78d5",
   "metadata": {},
   "source": [
    "Reshaping data for modelling purposes."
   ]
  },
  {
   "cell_type": "code",
   "execution_count": 21,
   "id": "47ce2685",
   "metadata": {},
   "outputs": [
    {
     "data": {
      "text/plain": [
       "(1464, 4096)"
      ]
     },
     "execution_count": 21,
     "metadata": {},
     "output_type": "execute_result"
    }
   ],
   "source": [
    "test_images = np.reshape(test_images, (1464,64*64))\n",
    "np.shape(test_images)"
   ]
  },
  {
   "cell_type": "code",
   "execution_count": 22,
   "id": "188f4346",
   "metadata": {},
   "outputs": [],
   "source": [
    "train_images = np.reshape(train_images, (np.shape(train_images)[0],64*64))\n",
    "np.shape(train_images)\n",
    "\n",
    "val_images = np.reshape(val_images, (np.shape(val_images)[0],64*64))\n",
    "#np.shape(val_images)"
   ]
  },
  {
   "cell_type": "code",
   "execution_count": 23,
   "id": "6f93439e",
   "metadata": {},
   "outputs": [],
   "source": [
    "import pandas as pd\n",
    "#s = pd.Series(val)\n",
    "#s.sort_values(desc=False)"
   ]
  },
  {
   "cell_type": "code",
   "execution_count": 24,
   "id": "780d7e23",
   "metadata": {},
   "outputs": [],
   "source": [
    "\n",
    "import matplotlib.pyplot as plt\n",
    "%matplotlib inline\n",
    "from keras.models import Sequential\n",
    "from keras.layers import Dense\n",
    "#import os\n"
   ]
  },
  {
   "cell_type": "markdown",
   "id": "6ac1f0d9",
   "metadata": {},
   "source": [
    "Removing extra column from labels."
   ]
  },
  {
   "cell_type": "code",
   "execution_count": 25,
   "id": "de40b18a",
   "metadata": {},
   "outputs": [],
   "source": [
    "train_labels= train_labels[:,0]\n",
    "val_labels= val_labels[:,0]\n",
    "test_labels= test_labels[:,0]"
   ]
  },
  {
   "cell_type": "markdown",
   "id": "00593294",
   "metadata": {},
   "source": [
    "Standardizing image data by diving by the maximum pixel value of 255."
   ]
  },
  {
   "cell_type": "code",
   "execution_count": 26,
   "id": "6bad158e",
   "metadata": {},
   "outputs": [],
   "source": [
    "train_images=train_images/255\n",
    "\n"
   ]
  },
  {
   "cell_type": "code",
   "execution_count": 27,
   "id": "b334ad68",
   "metadata": {},
   "outputs": [],
   "source": [
    "val_images=val_images/255"
   ]
  },
  {
   "cell_type": "markdown",
   "id": "063cb0f7",
   "metadata": {},
   "source": [
    "# Modeling"
   ]
  },
  {
   "cell_type": "markdown",
   "id": "c889b3d5",
   "metadata": {},
   "source": [
    "Building intial model\n"
   ]
  },
  {
   "cell_type": "code",
   "execution_count": 28,
   "id": "4d70db8f",
   "metadata": {},
   "outputs": [],
   "source": [
    "model = tf.keras.Sequential()\n",
    "model.add(tf.keras.layers.Dense(64, input_shape = (4096,), activation = 'tanh'))\n",
    "model.add(tf.keras.layers.Dense(1, activation = 'sigmoid'))\n",
    "#model.add(tf.keras.layers.Activation('relu'))"
   ]
  },
  {
   "cell_type": "code",
   "execution_count": 29,
   "id": "ec1047c4",
   "metadata": {},
   "outputs": [],
   "source": [
    "model.compile(optimizer = 'sgd', loss =  'mse', metrics = ['acc'])\n"
   ]
  },
  {
   "cell_type": "code",
   "execution_count": 30,
   "id": "0b437a6e",
   "metadata": {},
   "outputs": [
    {
     "name": "stdout",
     "output_type": "stream",
     "text": [
      "Epoch 1/4\n",
      "52/52 [==============================] - 1s 7ms/step - loss: 0.1824 - acc: 0.7310 - val_loss: 0.1562 - val_acc: 0.7641\n",
      "Epoch 2/4\n",
      "52/52 [==============================] - 0s 4ms/step - loss: 0.1526 - acc: 0.7872 - val_loss: 0.1348 - val_acc: 0.8097\n",
      "Epoch 3/4\n",
      "52/52 [==============================] - 0s 4ms/step - loss: 0.1347 - acc: 0.8297 - val_loss: 0.1226 - val_acc: 0.8579\n",
      "Epoch 4/4\n",
      "52/52 [==============================] - 0s 4ms/step - loss: 0.1234 - acc: 0.8503 - val_loss: 0.1306 - val_acc: 0.8579\n"
     ]
    },
    {
     "data": {
      "text/plain": [
       "<keras.src.callbacks.History at 0x1cc33b36b80>"
      ]
     },
     "execution_count": 30,
     "metadata": {},
     "output_type": "execute_result"
    }
   ],
   "source": [
    "model.fit(train_images,train_labels, batch_size=64, epochs=4, validation_data =(val_images,val_labels))\n"
   ]
  },
  {
   "cell_type": "code",
   "execution_count": 31,
   "id": "144c9567",
   "metadata": {},
   "outputs": [],
   "source": [
    "with open('model.pickle', 'wb') as f:\n",
    "    pickle.dump(model, f)"
   ]
  },
  {
   "cell_type": "markdown",
   "id": "e7a6d539",
   "metadata": {},
   "source": [
    "Builing second model by adding an additional layer.  "
   ]
  },
  {
   "cell_type": "code",
   "execution_count": 32,
   "id": "672e58e1",
   "metadata": {},
   "outputs": [],
   "source": [
    "model2 = tf.keras.Sequential()\n",
    "model2.add(tf.keras.layers.Dense(64, input_shape = (4096,), activation = 'tanh'))\n",
    "model2.add(tf.keras.layers.Dense(32, activation = 'tanh'))\n",
    "model2.add(tf.keras.layers.Dense(1, activation = 'sigmoid'))\n",
    "#model.add(tf.keras.layers.Activation('relu'))"
   ]
  },
  {
   "cell_type": "code",
   "execution_count": 33,
   "id": "39151cfe",
   "metadata": {},
   "outputs": [],
   "source": [
    "model2.compile(optimizer = 'sgd', loss =  'mse', metrics = ['acc'])\n"
   ]
  },
  {
   "cell_type": "code",
   "execution_count": 34,
   "id": "094710f0",
   "metadata": {},
   "outputs": [
    {
     "name": "stdout",
     "output_type": "stream",
     "text": [
      "Epoch 1/6\n",
      "52/52 [==============================] - 1s 6ms/step - loss: 0.1889 - acc: 0.7231 - val_loss: 0.1683 - val_acc: 0.7441\n",
      "Epoch 2/6\n",
      "52/52 [==============================] - 0s 4ms/step - loss: 0.1633 - acc: 0.7523 - val_loss: 0.1501 - val_acc: 0.7541\n",
      "Epoch 3/6\n",
      "52/52 [==============================] - 0s 4ms/step - loss: 0.1437 - acc: 0.8090 - val_loss: 0.1360 - val_acc: 0.7842\n",
      "Epoch 4/6\n",
      "52/52 [==============================] - 0s 4ms/step - loss: 0.1297 - acc: 0.8412 - val_loss: 0.1196 - val_acc: 0.8543\n",
      "Epoch 5/6\n",
      "52/52 [==============================] - 0s 4ms/step - loss: 0.1214 - acc: 0.8567 - val_loss: 0.1170 - val_acc: 0.8807\n",
      "Epoch 6/6\n",
      "52/52 [==============================] - 0s 4ms/step - loss: 0.1126 - acc: 0.8676 - val_loss: 0.1069 - val_acc: 0.8862\n"
     ]
    },
    {
     "data": {
      "text/plain": [
       "<keras.src.callbacks.History at 0x1cc33fd2f10>"
      ]
     },
     "execution_count": 34,
     "metadata": {},
     "output_type": "execute_result"
    }
   ],
   "source": [
    "model2.fit(train_images,train_labels, batch_size=64, epochs=6, validation_data =(val_images,val_labels))\n"
   ]
  },
  {
   "cell_type": "code",
   "execution_count": 35,
   "id": "c4875d62",
   "metadata": {},
   "outputs": [],
   "source": [
    "with open('model2.pickle', 'wb') as f:\n",
    "    pickle.dump(model2, f)"
   ]
  },
  {
   "cell_type": "markdown",
   "id": "b0c7d654",
   "metadata": {},
   "source": [
    "Model 2 achieves a higher validation accuracy of 89% as opposed to baseline model's 85%."
   ]
  },
  {
   "cell_type": "code",
   "execution_count": null,
   "id": "262e9951",
   "metadata": {},
   "outputs": [],
   "source": []
  },
  {
   "cell_type": "markdown",
   "id": "257787ed",
   "metadata": {},
   "source": [
    "Building third model by increasing the learning rate of the optimizer.  "
   ]
  },
  {
   "cell_type": "markdown",
   "id": "7cf5e1b8",
   "metadata": {},
   "source": [
    "Use same layers as model2."
   ]
  },
  {
   "cell_type": "code",
   "execution_count": 36,
   "id": "767f7deb",
   "metadata": {},
   "outputs": [],
   "source": [
    "opt = tf.keras.optimizers.SGD(learning_rate = .05)\n",
    "model3 = tf.keras.Sequential()\n",
    "model3.add(tf.keras.layers.Dense(64, input_shape = (4096,), activation = 'tanh'))\n",
    "model3.add(tf.keras.layers.Dense(32, activation = 'tanh'))\n",
    "model3.add(tf.keras.layers.Dense(1, activation = 'sigmoid'))\n",
    "\n"
   ]
  },
  {
   "cell_type": "code",
   "execution_count": 38,
   "id": "ce118ed5",
   "metadata": {},
   "outputs": [],
   "source": [
    "model3.compile(optimizer = opt, loss =  'mse', metrics = ['acc'])\n"
   ]
  },
  {
   "cell_type": "code",
   "execution_count": 39,
   "id": "9e023111",
   "metadata": {},
   "outputs": [
    {
     "name": "stdout",
     "output_type": "stream",
     "text": [
      "Epoch 1/6\n",
      "52/52 [==============================] - 1s 6ms/step - loss: 0.1859 - acc: 0.7641 - val_loss: 0.1439 - val_acc: 0.7559\n",
      "Epoch 2/6\n",
      "52/52 [==============================] - 0s 4ms/step - loss: 0.1429 - acc: 0.8103 - val_loss: 0.1400 - val_acc: 0.7933\n",
      "Epoch 3/6\n",
      "52/52 [==============================] - 0s 4ms/step - loss: 0.1367 - acc: 0.8127 - val_loss: 0.1194 - val_acc: 0.8206\n",
      "Epoch 4/6\n",
      "52/52 [==============================] - 0s 4ms/step - loss: 0.1053 - acc: 0.8588 - val_loss: 0.1287 - val_acc: 0.8188\n",
      "Epoch 5/6\n",
      "52/52 [==============================] - 0s 4ms/step - loss: 0.1119 - acc: 0.8464 - val_loss: 0.0951 - val_acc: 0.8716\n",
      "Epoch 6/6\n",
      "52/52 [==============================] - 0s 4ms/step - loss: 0.1104 - acc: 0.8531 - val_loss: 0.0963 - val_acc: 0.8743\n"
     ]
    },
    {
     "data": {
      "text/plain": [
       "<keras.src.callbacks.History at 0x1cc40d29940>"
      ]
     },
     "execution_count": 39,
     "metadata": {},
     "output_type": "execute_result"
    }
   ],
   "source": [
    "model3.fit(train_images,train_labels, batch_size=64, epochs=6, validation_data =(val_images,val_labels))\n"
   ]
  },
  {
   "cell_type": "markdown",
   "id": "8c8a312d",
   "metadata": {},
   "source": [
    "Appears to be over-learning, minimum loss is overshot."
   ]
  },
  {
   "cell_type": "code",
   "execution_count": null,
   "id": "e39ee42d",
   "metadata": {},
   "outputs": [],
   "source": []
  },
  {
   "cell_type": "code",
   "execution_count": 40,
   "id": "469c3456",
   "metadata": {},
   "outputs": [],
   "source": [
    "test_images=test_images/255"
   ]
  },
  {
   "cell_type": "code",
   "execution_count": 41,
   "id": "f0261335",
   "metadata": {},
   "outputs": [
    {
     "name": "stdout",
     "output_type": "stream",
     "text": [
      "46/46 [==============================] - 0s 1ms/step - loss: 0.0863 - acc: 0.8846\n"
     ]
    },
    {
     "data": {
      "text/plain": [
       "[0.08634314686059952, 0.8845628499984741]"
      ]
     },
     "execution_count": 41,
     "metadata": {},
     "output_type": "execute_result"
    }
   ],
   "source": [
    "model2.evaluate(test_images, test_labels)"
   ]
  },
  {
   "cell_type": "markdown",
   "id": "cd708a5e",
   "metadata": {},
   "source": [
    "Accuracy on test set is 88%."
   ]
  },
  {
   "cell_type": "markdown",
   "id": "64a286cb",
   "metadata": {},
   "source": [
    "# Results/Conclusions"
   ]
  },
  {
   "cell_type": "markdown",
   "id": "05ed37f0",
   "metadata": {},
   "source": [
    "The 2nd model performed best based on the validation sets, higher accuracy than the baseline model and the faster learning model.  The chosen model's accuracy on the holdout test set was 88%.  This can be compared to guessing based on the sample balance, which would yield 73% accuracy.  Thus this model can be used as a check by the radiologist, for instance on x-rays that they are less certain about.  "
   ]
  },
  {
   "cell_type": "code",
   "execution_count": null,
   "id": "9aa65a70",
   "metadata": {},
   "outputs": [],
   "source": []
  }
 ],
 "metadata": {
  "kernelspec": {
   "display_name": "Python (dash-env)",
   "language": "python",
   "name": "dash-env"
  },
  "language_info": {
   "codemirror_mode": {
    "name": "ipython",
    "version": 3
   },
   "file_extension": ".py",
   "mimetype": "text/x-python",
   "name": "python",
   "nbconvert_exporter": "python",
   "pygments_lexer": "ipython3",
   "version": "3.8.12"
  }
 },
 "nbformat": 4,
 "nbformat_minor": 5
}
